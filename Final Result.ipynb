{
  "nbformat": 4,
  "nbformat_minor": 0,
  "metadata": {
    "colab": {
      "provenance": [],
      "mount_file_id": "1TvBhmg5hqizcW_rqg2qTGJ5_JO58iWRS",
      "authorship_tag": "ABX9TyPNwSgwM3o/bjr1hb+nWHA7",
      "include_colab_link": true
    },
    "kernelspec": {
      "name": "python3",
      "display_name": "Python 3"
    },
    "language_info": {
      "name": "python"
    },
    "accelerator": "GPU",
    "gpuClass": "standard"
  },
  "cells": [
    {
      "cell_type": "markdown",
      "metadata": {
        "id": "view-in-github",
        "colab_type": "text"
      },
      "source": [
        "<a href=\"https://colab.research.google.com/github/janetytli/aetherAI_MLE/blob/main/Final%20Result.ipynb\" target=\"_parent\"><img src=\"https://colab.research.google.com/assets/colab-badge.svg\" alt=\"Open In Colab\"/></a>"
      ]
    },
    {
      "cell_type": "code",
      "execution_count": 16,
      "metadata": {
        "colab": {
          "base_uri": "https://localhost:8080/"
        },
        "id": "6qHKrv9lkPf5",
        "outputId": "e6a6b501-0e7b-44b2-e070-9bf667b45d27"
      },
      "outputs": [
        {
          "output_type": "stream",
          "name": "stdout",
          "text": [
            "./drive/MyDrive/co_lab_MLE/kaggle/dog_cat/sampleSubmission.csv\n",
            "./drive/MyDrive/co_lab_MLE/kaggle/dog_cat/test1.zip\n",
            "./drive/MyDrive/co_lab_MLE/kaggle/dog_cat/train.zip\n"
          ]
        }
      ],
      "source": [
        "import numpy as np # linear algebra\n",
        "import pandas as pd # data processing, CSV file I/O (e.g. pd.read_csv)\n",
        "import os\n",
        "\n",
        "for dirname, _, filenames in os.walk('./drive/MyDrive/co_lab_MLE/kaggle/dog_cat/'):\n",
        "    for filename in filenames:\n",
        "        print(os.path.join(dirname, filename))"
      ]
    },
    {
      "cell_type": "code",
      "source": [
        "# data extraction\n",
        "base_dir = \"./drive/MyDrive/co_lab_MLE/kaggle/dog_cat/\"\n",
        "train_dir = os.path.join(base_dir, \"train.zip\")\n",
        "test_dir = os.path.join(base_dir, \"test1.zip\")\n",
        "\n",
        "import zipfile\n",
        "with zipfile.ZipFile(train_dir,\"r\") as z:\n",
        "    z.extractall()\n",
        "\n",
        "with zipfile.ZipFile(test_dir,\"r\") as z:\n",
        "    z.extractall()"
      ],
      "metadata": {
        "id": "GBwzJ2PlkU3g"
      },
      "execution_count": 17,
      "outputs": []
    },
    {
      "cell_type": "markdown",
      "source": [
        "## Import libs"
      ],
      "metadata": {
        "id": "syIIgSO8li5c"
      }
    },
    {
      "cell_type": "code",
      "source": [
        "import keras\n",
        "from keras.models import Sequential\n",
        "from keras.layers import Dense, Dropout, Flatten, BatchNormalization\n",
        "from keras.layers import Conv2D, MaxPooling2D\n",
        "#from keras.preprocessing import image\n",
        "import keras.utils as image\n",
        "import numpy as np\n",
        "import pandas as pd\n",
        "import matplotlib.pyplot as plt\n",
        "from sklearn.model_selection import train_test_split\n",
        "from tensorflow.keras.utils import to_categorical\n",
        "from tqdm import tqdm"
      ],
      "metadata": {
        "id": "BaTjSE-CkU02"
      },
      "execution_count": 18,
      "outputs": []
    },
    {
      "cell_type": "markdown",
      "source": [
        "Training Dataset prepare"
      ],
      "metadata": {
        "id": "PiFi3TwEmb08"
      }
    },
    {
      "cell_type": "code",
      "source": [
        "images = os.listdir(\"./train\")\n",
        "data = pd.DataFrame(images)\n",
        "data = data.rename(columns={0: \"image\"})\n",
        "data['image'] = data['image'].apply(lambda x: \"./train/\"+x)\n",
        "data['label'] = data['image'].apply(lambda x: 0 if 'cat' in x else 1)\n",
        "data.head()"
      ],
      "metadata": {
        "colab": {
          "base_uri": "https://localhost:8080/",
          "height": 206
        },
        "id": "qy87EBG4mVNX",
        "outputId": "a14b330a-fb25-4f5c-8432-1a28ee499b48"
      },
      "execution_count": 19,
      "outputs": [
        {
          "output_type": "execute_result",
          "data": {
            "text/plain": [
              "                   image  label\n",
              "0   ./train/cat.7673.jpg      0\n",
              "1   ./train/dog.2997.jpg      1\n",
              "2  ./train/dog.11520.jpg      1\n",
              "3   ./train/dog.4568.jpg      1\n",
              "4   ./train/cat.8025.jpg      0"
            ],
            "text/html": [
              "\n",
              "  <div id=\"df-793ff6f6-7772-43d9-af15-e1fa4b379482\">\n",
              "    <div class=\"colab-df-container\">\n",
              "      <div>\n",
              "<style scoped>\n",
              "    .dataframe tbody tr th:only-of-type {\n",
              "        vertical-align: middle;\n",
              "    }\n",
              "\n",
              "    .dataframe tbody tr th {\n",
              "        vertical-align: top;\n",
              "    }\n",
              "\n",
              "    .dataframe thead th {\n",
              "        text-align: right;\n",
              "    }\n",
              "</style>\n",
              "<table border=\"1\" class=\"dataframe\">\n",
              "  <thead>\n",
              "    <tr style=\"text-align: right;\">\n",
              "      <th></th>\n",
              "      <th>image</th>\n",
              "      <th>label</th>\n",
              "    </tr>\n",
              "  </thead>\n",
              "  <tbody>\n",
              "    <tr>\n",
              "      <th>0</th>\n",
              "      <td>./train/cat.7673.jpg</td>\n",
              "      <td>0</td>\n",
              "    </tr>\n",
              "    <tr>\n",
              "      <th>1</th>\n",
              "      <td>./train/dog.2997.jpg</td>\n",
              "      <td>1</td>\n",
              "    </tr>\n",
              "    <tr>\n",
              "      <th>2</th>\n",
              "      <td>./train/dog.11520.jpg</td>\n",
              "      <td>1</td>\n",
              "    </tr>\n",
              "    <tr>\n",
              "      <th>3</th>\n",
              "      <td>./train/dog.4568.jpg</td>\n",
              "      <td>1</td>\n",
              "    </tr>\n",
              "    <tr>\n",
              "      <th>4</th>\n",
              "      <td>./train/cat.8025.jpg</td>\n",
              "      <td>0</td>\n",
              "    </tr>\n",
              "  </tbody>\n",
              "</table>\n",
              "</div>\n",
              "      <button class=\"colab-df-convert\" onclick=\"convertToInteractive('df-793ff6f6-7772-43d9-af15-e1fa4b379482')\"\n",
              "              title=\"Convert this dataframe to an interactive table.\"\n",
              "              style=\"display:none;\">\n",
              "        \n",
              "  <svg xmlns=\"http://www.w3.org/2000/svg\" height=\"24px\"viewBox=\"0 0 24 24\"\n",
              "       width=\"24px\">\n",
              "    <path d=\"M0 0h24v24H0V0z\" fill=\"none\"/>\n",
              "    <path d=\"M18.56 5.44l.94 2.06.94-2.06 2.06-.94-2.06-.94-.94-2.06-.94 2.06-2.06.94zm-11 1L8.5 8.5l.94-2.06 2.06-.94-2.06-.94L8.5 2.5l-.94 2.06-2.06.94zm10 10l.94 2.06.94-2.06 2.06-.94-2.06-.94-.94-2.06-.94 2.06-2.06.94z\"/><path d=\"M17.41 7.96l-1.37-1.37c-.4-.4-.92-.59-1.43-.59-.52 0-1.04.2-1.43.59L10.3 9.45l-7.72 7.72c-.78.78-.78 2.05 0 2.83L4 21.41c.39.39.9.59 1.41.59.51 0 1.02-.2 1.41-.59l7.78-7.78 2.81-2.81c.8-.78.8-2.07 0-2.86zM5.41 20L4 18.59l7.72-7.72 1.47 1.35L5.41 20z\"/>\n",
              "  </svg>\n",
              "      </button>\n",
              "      \n",
              "  <style>\n",
              "    .colab-df-container {\n",
              "      display:flex;\n",
              "      flex-wrap:wrap;\n",
              "      gap: 12px;\n",
              "    }\n",
              "\n",
              "    .colab-df-convert {\n",
              "      background-color: #E8F0FE;\n",
              "      border: none;\n",
              "      border-radius: 50%;\n",
              "      cursor: pointer;\n",
              "      display: none;\n",
              "      fill: #1967D2;\n",
              "      height: 32px;\n",
              "      padding: 0 0 0 0;\n",
              "      width: 32px;\n",
              "    }\n",
              "\n",
              "    .colab-df-convert:hover {\n",
              "      background-color: #E2EBFA;\n",
              "      box-shadow: 0px 1px 2px rgba(60, 64, 67, 0.3), 0px 1px 3px 1px rgba(60, 64, 67, 0.15);\n",
              "      fill: #174EA6;\n",
              "    }\n",
              "\n",
              "    [theme=dark] .colab-df-convert {\n",
              "      background-color: #3B4455;\n",
              "      fill: #D2E3FC;\n",
              "    }\n",
              "\n",
              "    [theme=dark] .colab-df-convert:hover {\n",
              "      background-color: #434B5C;\n",
              "      box-shadow: 0px 1px 3px 1px rgba(0, 0, 0, 0.15);\n",
              "      filter: drop-shadow(0px 1px 2px rgba(0, 0, 0, 0.3));\n",
              "      fill: #FFFFFF;\n",
              "    }\n",
              "  </style>\n",
              "\n",
              "      <script>\n",
              "        const buttonEl =\n",
              "          document.querySelector('#df-793ff6f6-7772-43d9-af15-e1fa4b379482 button.colab-df-convert');\n",
              "        buttonEl.style.display =\n",
              "          google.colab.kernel.accessAllowed ? 'block' : 'none';\n",
              "\n",
              "        async function convertToInteractive(key) {\n",
              "          const element = document.querySelector('#df-793ff6f6-7772-43d9-af15-e1fa4b379482');\n",
              "          const dataTable =\n",
              "            await google.colab.kernel.invokeFunction('convertToInteractive',\n",
              "                                                     [key], {});\n",
              "          if (!dataTable) return;\n",
              "\n",
              "          const docLinkHtml = 'Like what you see? Visit the ' +\n",
              "            '<a target=\"_blank\" href=https://colab.research.google.com/notebooks/data_table.ipynb>data table notebook</a>'\n",
              "            + ' to learn more about interactive tables.';\n",
              "          element.innerHTML = '';\n",
              "          dataTable['output_type'] = 'display_data';\n",
              "          await google.colab.output.renderOutput(dataTable, element);\n",
              "          const docLink = document.createElement('div');\n",
              "          docLink.innerHTML = docLinkHtml;\n",
              "          element.appendChild(docLink);\n",
              "        }\n",
              "      </script>\n",
              "    </div>\n",
              "  </div>\n",
              "  "
            ]
          },
          "metadata": {},
          "execution_count": 19
        }
      ]
    },
    {
      "cell_type": "code",
      "source": [
        "train_image = []\n",
        "for i in tqdm(range(data.shape[0])):\n",
        "    img = image.load_img(data['image'][i], target_size=(64,64,1), color_mode = \"grayscale\")\n",
        "    img = image.img_to_array(img)\n",
        "    img = img/255\n",
        "    train_image.append(img)\n",
        "X = np.array(train_image)\n"
      ],
      "metadata": {
        "colab": {
          "base_uri": "https://localhost:8080/"
        },
        "id": "4rrjRzpakUxu",
        "outputId": "38c47b3d-0494-4b97-e577-3c4e545d52ac"
      },
      "execution_count": 20,
      "outputs": [
        {
          "output_type": "stream",
          "name": "stderr",
          "text": [
            "100%|██████████| 25000/25000 [01:24<00:00, 296.08it/s]\n"
          ]
        }
      ]
    },
    {
      "cell_type": "code",
      "source": [
        "y=data['label'].values"
      ],
      "metadata": {
        "id": "PRkojbmNZYIc"
      },
      "execution_count": 21,
      "outputs": []
    },
    {
      "cell_type": "markdown",
      "source": [
        "Model architecture design"
      ],
      "metadata": {
        "id": "j8zGgsiamoF3"
      }
    },
    {
      "cell_type": "code",
      "source": [
        "from keras.layers import LeakyReLU\n",
        "def train(batch_norm=False):\n",
        "    model = Sequential()\n",
        "    model.add(Conv2D(64, kernel_size=(3,3), input_shape=(64, 64, 1), activation=LeakyReLU(alpha=0.1), kernel_initializer='he_normal'))\n",
        "    model.add(Conv2D(64, kernel_size=(3,3), input_shape=(62, 62, 64), activation=LeakyReLU(alpha=0.1), kernel_initializer='he_normal'))  # 0.8806 add layer and modify activation fn\n",
        "    # add batch_norm 0.8882\n",
        "    if batch_norm:\n",
        "        model.add(BatchNormalization())\n",
        "    model.add(MaxPooling2D(pool_size=3))\n",
        "    model.add(Dropout(0.5)) #0.4->0.5 82->83\n",
        "    model.add(Conv2D(32, kernel_size=(3,3), activation = LeakyReLU(alpha=0.1))) #relu -> lrelu 0.8356\n",
        "    if batch_norm:\n",
        "        model.add(BatchNormalization())\n",
        "    model.add(MaxPooling2D(pool_size=3))\n",
        "    model.add(Dropout(0.5))\n",
        "    model.add(Flatten())\n",
        "    model.add(Dense(128, activation= LeakyReLU(alpha=0.1))) #relu -> lrelu 0.8356\n",
        "    model.add(Dropout(0.5)) #0.4->0.5 82->83\n",
        "    model.add(Dense(1, activation='sigmoid'))\n",
        "    print(model.summary())\n",
        "    model.compile(loss='binary_crossentropy',optimizer='Adam',metrics=['accuracy'])    \n",
        "    return model"
      ],
      "metadata": {
        "id": "2_fPwmLvkUsr"
      },
      "execution_count": 22,
      "outputs": []
    },
    {
      "cell_type": "code",
      "source": [
        "# training the model on all of input data\n",
        "model = train(batch_norm=True)\n",
        "train_on_full_data = model.fit(X, y, epochs=25 )"
      ],
      "metadata": {
        "colab": {
          "base_uri": "https://localhost:8080/"
        },
        "id": "5TfY5_WBkvkI",
        "outputId": "0051c56f-af56-4ebf-9415-d7c1d2f06628"
      },
      "execution_count": 23,
      "outputs": [
        {
          "output_type": "stream",
          "name": "stdout",
          "text": [
            "Model: \"sequential_1\"\n",
            "_________________________________________________________________\n",
            " Layer (type)                Output Shape              Param #   \n",
            "=================================================================\n",
            " conv2d_3 (Conv2D)           (None, 62, 62, 64)        640       \n",
            "                                                                 \n",
            " conv2d_4 (Conv2D)           (None, 60, 60, 64)        36928     \n",
            "                                                                 \n",
            " batch_normalization_2 (Batc  (None, 60, 60, 64)       256       \n",
            " hNormalization)                                                 \n",
            "                                                                 \n",
            " max_pooling2d_2 (MaxPooling  (None, 20, 20, 64)       0         \n",
            " 2D)                                                             \n",
            "                                                                 \n",
            " dropout_3 (Dropout)         (None, 20, 20, 64)        0         \n",
            "                                                                 \n",
            " conv2d_5 (Conv2D)           (None, 18, 18, 32)        18464     \n",
            "                                                                 \n",
            " batch_normalization_3 (Batc  (None, 18, 18, 32)       128       \n",
            " hNormalization)                                                 \n",
            "                                                                 \n",
            " max_pooling2d_3 (MaxPooling  (None, 6, 6, 32)         0         \n",
            " 2D)                                                             \n",
            "                                                                 \n",
            " dropout_4 (Dropout)         (None, 6, 6, 32)          0         \n",
            "                                                                 \n",
            " flatten_1 (Flatten)         (None, 1152)              0         \n",
            "                                                                 \n",
            " dense_2 (Dense)             (None, 128)               147584    \n",
            "                                                                 \n",
            " dropout_5 (Dropout)         (None, 128)               0         \n",
            "                                                                 \n",
            " dense_3 (Dense)             (None, 1)                 129       \n",
            "                                                                 \n",
            "=================================================================\n",
            "Total params: 204,129\n",
            "Trainable params: 203,937\n",
            "Non-trainable params: 192\n",
            "_________________________________________________________________\n",
            "None\n",
            "Epoch 1/25\n",
            "782/782 [==============================] - 19s 20ms/step - loss: 0.7243 - accuracy: 0.6014\n",
            "Epoch 2/25\n",
            "782/782 [==============================] - 16s 20ms/step - loss: 0.6054 - accuracy: 0.6711\n",
            "Epoch 3/25\n",
            "782/782 [==============================] - 15s 19ms/step - loss: 0.5480 - accuracy: 0.7211\n",
            "Epoch 4/25\n",
            "782/782 [==============================] - 15s 19ms/step - loss: 0.4931 - accuracy: 0.7609\n",
            "Epoch 5/25\n",
            "782/782 [==============================] - 15s 20ms/step - loss: 0.4603 - accuracy: 0.7840\n",
            "Epoch 6/25\n",
            "782/782 [==============================] - 15s 19ms/step - loss: 0.4311 - accuracy: 0.8020\n",
            "Epoch 7/25\n",
            "782/782 [==============================] - 15s 19ms/step - loss: 0.4136 - accuracy: 0.8109\n",
            "Epoch 8/25\n",
            "782/782 [==============================] - 15s 19ms/step - loss: 0.3979 - accuracy: 0.8239\n",
            "Epoch 9/25\n",
            "782/782 [==============================] - 16s 20ms/step - loss: 0.3854 - accuracy: 0.8276\n",
            "Epoch 10/25\n",
            "782/782 [==============================] - 15s 19ms/step - loss: 0.3728 - accuracy: 0.8344\n",
            "Epoch 11/25\n",
            "782/782 [==============================] - 15s 19ms/step - loss: 0.3602 - accuracy: 0.8377\n",
            "Epoch 12/25\n",
            "782/782 [==============================] - 15s 19ms/step - loss: 0.3549 - accuracy: 0.8426\n",
            "Epoch 13/25\n",
            "782/782 [==============================] - 15s 19ms/step - loss: 0.3479 - accuracy: 0.8459\n",
            "Epoch 14/25\n",
            "782/782 [==============================] - 15s 19ms/step - loss: 0.3407 - accuracy: 0.8499\n",
            "Epoch 15/25\n",
            "782/782 [==============================] - 15s 19ms/step - loss: 0.3362 - accuracy: 0.8538\n",
            "Epoch 16/25\n",
            "782/782 [==============================] - 15s 19ms/step - loss: 0.3262 - accuracy: 0.8577\n",
            "Epoch 17/25\n",
            "782/782 [==============================] - 15s 19ms/step - loss: 0.3189 - accuracy: 0.8604\n",
            "Epoch 18/25\n",
            "782/782 [==============================] - 15s 19ms/step - loss: 0.3160 - accuracy: 0.8614\n",
            "Epoch 19/25\n",
            "782/782 [==============================] - 15s 19ms/step - loss: 0.3188 - accuracy: 0.8622\n",
            "Epoch 20/25\n",
            "782/782 [==============================] - 15s 19ms/step - loss: 0.3094 - accuracy: 0.8660\n",
            "Epoch 21/25\n",
            "782/782 [==============================] - 15s 20ms/step - loss: 0.3066 - accuracy: 0.8671\n",
            "Epoch 22/25\n",
            "782/782 [==============================] - 15s 19ms/step - loss: 0.3011 - accuracy: 0.8695\n",
            "Epoch 23/25\n",
            "782/782 [==============================] - 15s 19ms/step - loss: 0.2990 - accuracy: 0.8716\n",
            "Epoch 24/25\n",
            "782/782 [==============================] - 15s 19ms/step - loss: 0.2945 - accuracy: 0.8728\n",
            "Epoch 25/25\n",
            "782/782 [==============================] - 15s 20ms/step - loss: 0.2901 - accuracy: 0.8760\n"
          ]
        }
      ]
    },
    {
      "cell_type": "markdown",
      "source": [
        "draw training curve"
      ],
      "metadata": {
        "id": "PaoeUvBfoM0v"
      }
    },
    {
      "cell_type": "code",
      "source": [
        "# training set accuacy plot function design\n",
        "import matplotlib.pyplot as plt\n",
        "\n",
        "def plot_acc_loss(model_training_history, keyword =\"accuracy\", label=\"\"):\n",
        "    # summarize history for accuracy\n",
        "    plt.plot(model_training_history.history[keyword])\n",
        "    title = f'model {keyword} {label}'.strip()\n",
        "    plt.title(title)\n",
        "    plt.ylabel(keyword)\n",
        "    plt.xlabel('epoch')\n",
        "    plt.legend(['train',], loc='upper left')\n",
        "    plt.show()"
      ],
      "metadata": {
        "id": "kKB1CTCGkUgf"
      },
      "execution_count": 24,
      "outputs": []
    },
    {
      "cell_type": "code",
      "source": [
        "plot_acc_loss(train_on_full_data, label=\"train_on_full_data\")"
      ],
      "metadata": {
        "colab": {
          "base_uri": "https://localhost:8080/",
          "height": 472
        },
        "id": "4t9e8m6klBPU",
        "outputId": "bfb5e567-6aea-4658-a5ec-234c2f2ea6a0"
      },
      "execution_count": 25,
      "outputs": [
        {
          "output_type": "display_data",
          "data": {
            "text/plain": [
              "<Figure size 640x480 with 1 Axes>"
            ],
            "image/png": "[encoded data removed]"
          },
          "metadata": {}
        }
      ]
    },
    {
      "cell_type": "markdown",
      "source": [
        "Test data set test on trained model"
      ],
      "metadata": {
        "id": "5wW_cEslomDo"
      }
    },
    {
      "cell_type": "code",
      "source": [
        "test = os.listdir(\"./test1\")\n",
        "df = pd.DataFrame(test)\n",
        "\n",
        "df = df.rename(columns={0: \"image\"})\n",
        "df['id'] = df['image'].apply(lambda x: x.split('.')[0])\n",
        "df['image'] = df['image'].apply(lambda x: \"./test1/\"+x)\n",
        "df['label'] = df['image'].apply(lambda x: 0 if 'cat' in x else 1)\n",
        "df.head()"
      ],
      "metadata": {
        "colab": {
          "base_uri": "https://localhost:8080/",
          "height": 206
        },
        "id": "pZbtY3YFkUTs",
        "outputId": "0d5ff15a-40cc-4151-d66c-c635953416b0"
      },
      "execution_count": 26,
      "outputs": [
        {
          "output_type": "execute_result",
          "data": {
            "text/plain": [
              "               image     id  label\n",
              "0      ./test1/9.jpg      9      1\n",
              "1   ./test1/7122.jpg   7122      1\n",
              "2   ./test1/6412.jpg   6412      1\n",
              "3  ./test1/12498.jpg  12498      1\n",
              "4   ./test1/7558.jpg   7558      1"
            ],
            "text/html": [
              "\n",
              "  <div id=\"df-af6b80e3-f644-4ce2-a425-d58d82164c09\">\n",
              "    <div class=\"colab-df-container\">\n",
              "      <div>\n",
              "<style scoped>\n",
              "    .dataframe tbody tr th:only-of-type {\n",
              "        vertical-align: middle;\n",
              "    }\n",
              "\n",
              "    .dataframe tbody tr th {\n",
              "        vertical-align: top;\n",
              "    }\n",
              "\n",
              "    .dataframe thead th {\n",
              "        text-align: right;\n",
              "    }\n",
              "</style>\n",
              "<table border=\"1\" class=\"dataframe\">\n",
              "  <thead>\n",
              "    <tr style=\"text-align: right;\">\n",
              "      <th></th>\n",
              "      <th>image</th>\n",
              "      <th>id</th>\n",
              "      <th>label</th>\n",
              "    </tr>\n",
              "  </thead>\n",
              "  <tbody>\n",
              "    <tr>\n",
              "      <th>0</th>\n",
              "      <td>./test1/9.jpg</td>\n",
              "      <td>9</td>\n",
              "      <td>1</td>\n",
              "    </tr>\n",
              "    <tr>\n",
              "      <th>1</th>\n",
              "      <td>./test1/7122.jpg</td>\n",
              "      <td>7122</td>\n",
              "      <td>1</td>\n",
              "    </tr>\n",
              "    <tr>\n",
              "      <th>2</th>\n",
              "      <td>./test1/6412.jpg</td>\n",
              "      <td>6412</td>\n",
              "      <td>1</td>\n",
              "    </tr>\n",
              "    <tr>\n",
              "      <th>3</th>\n",
              "      <td>./test1/12498.jpg</td>\n",
              "      <td>12498</td>\n",
              "      <td>1</td>\n",
              "    </tr>\n",
              "    <tr>\n",
              "      <th>4</th>\n",
              "      <td>./test1/7558.jpg</td>\n",
              "      <td>7558</td>\n",
              "      <td>1</td>\n",
              "    </tr>\n",
              "  </tbody>\n",
              "</table>\n",
              "</div>\n",
              "      <button class=\"colab-df-convert\" onclick=\"convertToInteractive('df-af6b80e3-f644-4ce2-a425-d58d82164c09')\"\n",
              "              title=\"Convert this dataframe to an interactive table.\"\n",
              "              style=\"display:none;\">\n",
              "        \n",
              "  <svg xmlns=\"http://www.w3.org/2000/svg\" height=\"24px\"viewBox=\"0 0 24 24\"\n",
              "       width=\"24px\">\n",
              "    <path d=\"M0 0h24v24H0V0z\" fill=\"none\"/>\n",
              "    <path d=\"M18.56 5.44l.94 2.06.94-2.06 2.06-.94-2.06-.94-.94-2.06-.94 2.06-2.06.94zm-11 1L8.5 8.5l.94-2.06 2.06-.94-2.06-.94L8.5 2.5l-.94 2.06-2.06.94zm10 10l.94 2.06.94-2.06 2.06-.94-2.06-.94-.94-2.06-.94 2.06-2.06.94z\"/><path d=\"M17.41 7.96l-1.37-1.37c-.4-.4-.92-.59-1.43-.59-.52 0-1.04.2-1.43.59L10.3 9.45l-7.72 7.72c-.78.78-.78 2.05 0 2.83L4 21.41c.39.39.9.59 1.41.59.51 0 1.02-.2 1.41-.59l7.78-7.78 2.81-2.81c.8-.78.8-2.07 0-2.86zM5.41 20L4 18.59l7.72-7.72 1.47 1.35L5.41 20z\"/>\n",
              "  </svg>\n",
              "      </button>\n",
              "      \n",
              "  <style>\n",
              "    .colab-df-container {\n",
              "      display:flex;\n",
              "      flex-wrap:wrap;\n",
              "      gap: 12px;\n",
              "    }\n",
              "\n",
              "    .colab-df-convert {\n",
              "      background-color: #E8F0FE;\n",
              "      border: none;\n",
              "      border-radius: 50%;\n",
              "      cursor: pointer;\n",
              "      display: none;\n",
              "      fill: #1967D2;\n",
              "      height: 32px;\n",
              "      padding: 0 0 0 0;\n",
              "      width: 32px;\n",
              "    }\n",
              "\n",
              "    .colab-df-convert:hover {\n",
              "      background-color: #E2EBFA;\n",
              "      box-shadow: 0px 1px 2px rgba(60, 64, 67, 0.3), 0px 1px 3px 1px rgba(60, 64, 67, 0.15);\n",
              "      fill: #174EA6;\n",
              "    }\n",
              "\n",
              "    [theme=dark] .colab-df-convert {\n",
              "      background-color: #3B4455;\n",
              "      fill: #D2E3FC;\n",
              "    }\n",
              "\n",
              "    [theme=dark] .colab-df-convert:hover {\n",
              "      background-color: #434B5C;\n",
              "      box-shadow: 0px 1px 3px 1px rgba(0, 0, 0, 0.15);\n",
              "      filter: drop-shadow(0px 1px 2px rgba(0, 0, 0, 0.3));\n",
              "      fill: #FFFFFF;\n",
              "    }\n",
              "  </style>\n",
              "\n",
              "      <script>\n",
              "        const buttonEl =\n",
              "          document.querySelector('#df-af6b80e3-f644-4ce2-a425-d58d82164c09 button.colab-df-convert');\n",
              "        buttonEl.style.display =\n",
              "          google.colab.kernel.accessAllowed ? 'block' : 'none';\n",
              "\n",
              "        async function convertToInteractive(key) {\n",
              "          const element = document.querySelector('#df-af6b80e3-f644-4ce2-a425-d58d82164c09');\n",
              "          const dataTable =\n",
              "            await google.colab.kernel.invokeFunction('convertToInteractive',\n",
              "                                                     [key], {});\n",
              "          if (!dataTable) return;\n",
              "\n",
              "          const docLinkHtml = 'Like what you see? Visit the ' +\n",
              "            '<a target=\"_blank\" href=https://colab.research.google.com/notebooks/data_table.ipynb>data table notebook</a>'\n",
              "            + ' to learn more about interactive tables.';\n",
              "          element.innerHTML = '';\n",
              "          dataTable['output_type'] = 'display_data';\n",
              "          await google.colab.output.renderOutput(dataTable, element);\n",
              "          const docLink = document.createElement('div');\n",
              "          docLink.innerHTML = docLinkHtml;\n",
              "          element.appendChild(docLink);\n",
              "        }\n",
              "      </script>\n",
              "    </div>\n",
              "  </div>\n",
              "  "
            ]
          },
          "metadata": {},
          "execution_count": 26
        }
      ]
    },
    {
      "cell_type": "code",
      "source": [
        "val_image = []\n",
        "for i in tqdm(range(df.shape[0])):\n",
        "    img = image.load_img(df['image'][i], target_size=(64,64,1), color_mode = \"grayscale\")\n",
        "    img = image.img_to_array(img)\n",
        "    img = img/255\n",
        "    val_image.append(img)\n",
        "X_val = np.array(val_image)"
      ],
      "metadata": {
        "colab": {
          "base_uri": "https://localhost:8080/"
        },
        "id": "SPqotmD5kyQ8",
        "outputId": "fec21e1e-7990-4ffd-ef1b-45c998ebe8c6"
      },
      "execution_count": 27,
      "outputs": [
        {
          "output_type": "stream",
          "name": "stderr",
          "text": [
            "100%|██████████| 12500/12500 [00:36<00:00, 338.19it/s]\n"
          ]
        }
      ]
    },
    {
      "cell_type": "code",
      "source": [
        "y_pred = model.predict(X_val)\n",
        "df['pred']=y_pred\n",
        "df['pred'] = df['pred'].apply(lambda x: 0 if x<0.5 else 1)\n",
        "n=len(df.pred)\n",
        "acc=0\n",
        "fa=0\n",
        "for i in range (0,n):\n",
        "  if df.pred[i] == df.label[i]:\n",
        "    acc = acc + 1\n",
        "  else:\n",
        "    fa = fa + 1\n",
        "\n",
        "print(acc, fa)\n",
        "print('accuracy=', acc/(acc + fa))"
      ],
      "metadata": {
        "colab": {
          "base_uri": "https://localhost:8080/"
        },
        "id": "TOLxHpImk24B",
        "outputId": "d43b0e7e-6d62-4998-c0bf-53e654d3e9b4"
      },
      "execution_count": 28,
      "outputs": [
        {
          "output_type": "stream",
          "name": "stdout",
          "text": [
            "391/391 [==============================] - 2s 5ms/step\n",
            "7542 4958\n",
            "accuracy= 0.60336\n"
          ]
        }
      ]
    },
    {
      "cell_type": "markdown",
      "source": [
        "Draw confusion matrix"
      ],
      "metadata": {
        "id": "lDd3dFQToIEj"
      }
    },
    {
      "cell_type": "code",
      "source": [
        "from sklearn.metrics import classification_report\n",
        "\n",
        "import itertools\n",
        "import matplotlib.pyplot as plt\n",
        "from sklearn.metrics import confusion_matrix\n",
        "import numpy as np\n",
        "def plot_confusion_matrix(cm, classes,\n",
        "                          normalize=False,\n",
        "                          title='Confusion matrix',\n",
        "                          cmap=plt.cm.Blues):\n",
        "    \"\"\"\n",
        "    This function prints and plots the confusion matrix.\n",
        "    Normalization can be applied by setting `normalize=True`.\n",
        "    \"\"\"\n",
        "    if normalize:\n",
        "        cm = cm.astype('float') / cm.sum(axis=1)[:, np.newaxis]\n",
        "        print(\"Normalized confusion matrix\")\n",
        "    else:\n",
        "        print('Confusion matrix, without normalization')\n",
        "\n",
        "    print(cm)\n",
        "    plt.imshow(cm, interpolation='nearest', cmap=cmap)\n",
        "    plt.title(title)\n",
        "    plt.colorbar()\n",
        "    tick_marks = np.arange(len(classes))\n",
        "    plt.xticks(tick_marks, classes, rotation=45)\n",
        "    plt.yticks(tick_marks, classes)\n",
        "\n",
        "    fmt = '.2f' if normalize else 'd'\n",
        "    thresh = cm.max() / 2.\n",
        "    for i, j in itertools.product(range(cm.shape[0]), range(cm.shape[1])):\n",
        "        plt.text(j, i, format(cm[i, j], fmt),\n",
        "                 horizontalalignment=\"center\",\n",
        "                 color=\"white\" if cm[i, j] > thresh else \"black\")\n",
        "\n",
        "    plt.ylabel('True label')\n",
        "    plt.xlabel('Predicted label')\n",
        "    plt.tight_layout()"
      ],
      "metadata": {
        "id": "Vf1vhPHuk5js"
      },
      "execution_count": 29,
      "outputs": []
    },
    {
      "cell_type": "code",
      "source": [
        "target_names = ['0','1']\n",
        "print (\"CONFUSION MATRIX\")\n",
        "print(classification_report(df.label, df.pred, target_names=target_names))\n",
        "print (\"**************************************************************\")\n",
        "\n",
        "plt.figure()\n",
        "cnf_matrix = confusion_matrix(df.label,df.pred)\n",
        "plot_confusion_matrix(cnf_matrix, classes=target_names,normalize=False,\n",
        "                    title=\"CONFUSION MATRIX \")"
      ],
      "metadata": {
        "colab": {
          "base_uri": "https://localhost:8080/",
          "height": 854
        },
        "id": "-l5-Z_y5k75i",
        "outputId": "84499f60-33e7-4153-8319-d4c0a28e25d5"
      },
      "execution_count": 30,
      "outputs": [
        {
          "output_type": "stream",
          "name": "stdout",
          "text": [
            "CONFUSION MATRIX\n",
            "              precision    recall  f1-score   support\n",
            "\n",
            "           0       0.00      0.00      0.00         0\n",
            "           1       1.00      0.60      0.75     12500\n",
            "\n",
            "    accuracy                           0.60     12500\n",
            "   macro avg       0.50      0.30      0.38     12500\n",
            "weighted avg       1.00      0.60      0.75     12500\n",
            "\n",
            "**************************************************************\n",
            "Confusion matrix, without normalization\n",
            "[[   0    0]\n",
            " [4958 7542]]\n"
          ]
        },
        {
          "output_type": "stream",
          "name": "stderr",
          "text": [
            "/usr/local/lib/python3.9/dist-packages/sklearn/metrics/_classification.py:1344: UndefinedMetricWarning: Recall and F-score are ill-defined and being set to 0.0 in labels with no true samples. Use `zero_division` parameter to control this behavior.\n",
            "  _warn_prf(average, modifier, msg_start, len(result))\n",
            "/usr/local/lib/python3.9/dist-packages/sklearn/metrics/_classification.py:1344: UndefinedMetricWarning: Recall and F-score are ill-defined and being set to 0.0 in labels with no true samples. Use `zero_division` parameter to control this behavior.\n",
            "  _warn_prf(average, modifier, msg_start, len(result))\n",
            "/usr/local/lib/python3.9/dist-packages/sklearn/metrics/_classification.py:1344: UndefinedMetricWarning: Recall and F-score are ill-defined and being set to 0.0 in labels with no true samples. Use `zero_division` parameter to control this behavior.\n",
            "  _warn_prf(average, modifier, msg_start, len(result))\n"
          ]
        },
        {
          "output_type": "display_data",
          "data": {
            "text/plain": [
              "<Figure size 640x480 with 2 Axes>"
            ],
            "image/png": "[encoded data removed]"
          },
          "metadata": {}
        }
      ]
    }
  ]
}