{
  "nbformat": 4,
  "nbformat_minor": 0,
  "metadata": {
    "colab": {
      "provenance": [],
      "mount_file_id": "1TvBhmg5hqizcW_rqg2qTGJ5_JO58iWRS",
      "authorship_tag": "ABX9TyPNwSgwM3o/bjr1hb+nWHA7",
      "include_colab_link": true
    },
    "kernelspec": {
      "name": "python3",
      "display_name": "Python 3"
    },
    "language_info": {
      "name": "python"
    },
    "accelerator": "GPU",
    "gpuClass": "standard"
  },
  "cells": [
    {
      "cell_type": "markdown",
      "metadata": {
        "id": "view-in-github",
        "colab_type": "text"
      },
      "source": [
        "<a href=\"https://colab.research.google.com/github/janetytli/aetherAI_MLE/blob/main/Final%20Result.ipynb\" target=\"_parent\"><img src=\"https://colab.research.google.com/assets/colab-badge.svg\" alt=\"Open In Colab\"/></a>"
      ]
    },
    {
      "cell_type": "code",
      "execution_count": 1,
      "metadata": {
        "colab": {
          "base_uri": "https://localhost:8080/"
        },
        "id": "6qHKrv9lkPf5",
        "outputId": "6b46726f-cd5c-45da-fc47-311ba76eb97b"
      },
      "outputs": [
        {
          "output_type": "stream",
          "name": "stdout",
          "text": [
            "./drive/MyDrive/co_lab_MLE/kaggle/dog_cat/sampleSubmission.csv\n",
            "./drive/MyDrive/co_lab_MLE/kaggle/dog_cat/test1.zip\n",
            "./drive/MyDrive/co_lab_MLE/kaggle/dog_cat/train.zip\n"
          ]
        }
      ],
      "source": [
        "import numpy as np # linear algebra\n",
        "import pandas as pd # data processing, CSV file I/O (e.g. pd.read_csv)\n",
        "import os\n",
        "\n",
        "for dirname, _, filenames in os.walk('./drive/MyDrive/co_lab_MLE/kaggle/dog_cat/'):\n",
        "    for filename in filenames:\n",
        "        print(os.path.join(dirname, filename))"
      ]
    },
    {
      "cell_type": "code",
      "source": [
        "# data extraction\n",
        "base_dir = \"./drive/MyDrive/co_lab_MLE/kaggle/dog_cat/\"\n",
        "train_dir = os.path.join(base_dir, \"train.zip\")\n",
        "test_dir = os.path.join(base_dir, \"test1.zip\")\n",
        "\n",
        "import zipfile\n",
        "with zipfile.ZipFile(train_dir,\"r\") as z:\n",
        "    z.extractall()\n",
        "\n",
        "with zipfile.ZipFile(test_dir,\"r\") as z:\n",
        "    z.extractall()"
      ],
      "metadata": {
        "id": "GBwzJ2PlkU3g"
      },
      "execution_count": 2,
      "outputs": []
    },
    {
      "cell_type": "markdown",
      "source": [
        "## Import libs"
      ],
      "metadata": {
        "id": "syIIgSO8li5c"
      }
    },
    {
      "cell_type": "code",
      "source": [
        "import keras\n",
        "from keras.models import Sequential\n",
        "from keras.layers import Dense, Dropout, Flatten, BatchNormalization\n",
        "from keras.layers import Conv2D, MaxPooling2D\n",
        "#from keras.preprocessing import image\n",
        "import keras.utils as image\n",
        "import numpy as np\n",
        "import pandas as pd\n",
        "import matplotlib.pyplot as plt\n",
        "from sklearn.model_selection import train_test_split\n",
        "from tensorflow.keras.utils import to_categorical\n",
        "from tqdm import tqdm"
      ],
      "metadata": {
        "id": "BaTjSE-CkU02"
      },
      "execution_count": 3,
      "outputs": []
    },
    {
      "cell_type": "markdown",
      "source": [
        "Training Dataset prepare"
      ],
      "metadata": {
        "id": "PiFi3TwEmb08"
      }
    },
    {
      "cell_type": "code",
      "source": [
        "images = os.listdir(\"./train\")\n",
        "data = pd.DataFrame(images)\n",
        "data = data.rename(columns={0: \"image\"})\n",
        "data['image'] = data['image'].apply(lambda x: \"./train/\"+x)\n",
        "data['label'] = data['image'].apply(lambda x: 0 if 'cat' in x else 1)\n",
        "data.head()"
      ],
      "metadata": {
        "colab": {
          "base_uri": "https://localhost:8080/",
          "height": 206
        },
        "id": "qy87EBG4mVNX",
        "outputId": "19a7cc48-9451-4df5-bd00-4f668cb9c31e"
      },
      "execution_count": 4,
      "outputs": [
        {
          "output_type": "execute_result",
          "data": {
            "text/plain": [
              "                   image  label\n",
              "0   ./train/cat.7673.jpg      0\n",
              "1   ./train/dog.2997.jpg      1\n",
              "2  ./train/dog.11520.jpg      1\n",
              "3   ./train/dog.4568.jpg      1\n",
              "4   ./train/cat.8025.jpg      0"
            ],
            "text/html": [
              "\n",
              "  <div id=\"df-9b1080c5-6c18-480b-b4b9-8fcb79e50a5d\">\n",
              "    <div class=\"colab-df-container\">\n",
              "      <div>\n",
              "<style scoped>\n",
              "    .dataframe tbody tr th:only-of-type {\n",
              "        vertical-align: middle;\n",
              "    }\n",
              "\n",
              "    .dataframe tbody tr th {\n",
              "        vertical-align: top;\n",
              "    }\n",
              "\n",
              "    .dataframe thead th {\n",
              "        text-align: right;\n",
              "    }\n",
              "</style>\n",
              "<table border=\"1\" class=\"dataframe\">\n",
              "  <thead>\n",
              "    <tr style=\"text-align: right;\">\n",
              "      <th></th>\n",
              "      <th>image</th>\n",
              "      <th>label</th>\n",
              "    </tr>\n",
              "  </thead>\n",
              "  <tbody>\n",
              "    <tr>\n",
              "      <th>0</th>\n",
              "      <td>./train/cat.7673.jpg</td>\n",
              "      <td>0</td>\n",
              "    </tr>\n",
              "    <tr>\n",
              "      <th>1</th>\n",
              "      <td>./train/dog.2997.jpg</td>\n",
              "      <td>1</td>\n",
              "    </tr>\n",
              "    <tr>\n",
              "      <th>2</th>\n",
              "      <td>./train/dog.11520.jpg</td>\n",
              "      <td>1</td>\n",
              "    </tr>\n",
              "    <tr>\n",
              "      <th>3</th>\n",
              "      <td>./train/dog.4568.jpg</td>\n",
              "      <td>1</td>\n",
              "    </tr>\n",
              "    <tr>\n",
              "      <th>4</th>\n",
              "      <td>./train/cat.8025.jpg</td>\n",
              "      <td>0</td>\n",
              "    </tr>\n",
              "  </tbody>\n",
              "</table>\n",
              "</div>\n",
              "      <button class=\"colab-df-convert\" onclick=\"convertToInteractive('df-9b1080c5-6c18-480b-b4b9-8fcb79e50a5d')\"\n",
              "              title=\"Convert this dataframe to an interactive table.\"\n",
              "              style=\"display:none;\">\n",
              "        \n",
              "  <svg xmlns=\"http://www.w3.org/2000/svg\" height=\"24px\"viewBox=\"0 0 24 24\"\n",
              "       width=\"24px\">\n",
              "    <path d=\"M0 0h24v24H0V0z\" fill=\"none\"/>\n",
              "    <path d=\"M18.56 5.44l.94 2.06.94-2.06 2.06-.94-2.06-.94-.94-2.06-.94 2.06-2.06.94zm-11 1L8.5 8.5l.94-2.06 2.06-.94-2.06-.94L8.5 2.5l-.94 2.06-2.06.94zm10 10l.94 2.06.94-2.06 2.06-.94-2.06-.94-.94-2.06-.94 2.06-2.06.94z\"/><path d=\"M17.41 7.96l-1.37-1.37c-.4-.4-.92-.59-1.43-.59-.52 0-1.04.2-1.43.59L10.3 9.45l-7.72 7.72c-.78.78-.78 2.05 0 2.83L4 21.41c.39.39.9.59 1.41.59.51 0 1.02-.2 1.41-.59l7.78-7.78 2.81-2.81c.8-.78.8-2.07 0-2.86zM5.41 20L4 18.59l7.72-7.72 1.47 1.35L5.41 20z\"/>\n",
              "  </svg>\n",
              "      </button>\n",
              "      \n",
              "  <style>\n",
              "    .colab-df-container {\n",
              "      display:flex;\n",
              "      flex-wrap:wrap;\n",
              "      gap: 12px;\n",
              "    }\n",
              "\n",
              "    .colab-df-convert {\n",
              "      background-color: #E8F0FE;\n",
              "      border: none;\n",
              "      border-radius: 50%;\n",
              "      cursor: pointer;\n",
              "      display: none;\n",
              "      fill: #1967D2;\n",
              "      height: 32px;\n",
              "      padding: 0 0 0 0;\n",
              "      width: 32px;\n",
              "    }\n",
              "\n",
              "    .colab-df-convert:hover {\n",
              "      background-color: #E2EBFA;\n",
              "      box-shadow: 0px 1px 2px rgba(60, 64, 67, 0.3), 0px 1px 3px 1px rgba(60, 64, 67, 0.15);\n",
              "      fill: #174EA6;\n",
              "    }\n",
              "\n",
              "    [theme=dark] .colab-df-convert {\n",
              "      background-color: #3B4455;\n",
              "      fill: #D2E3FC;\n",
              "    }\n",
              "\n",
              "    [theme=dark] .colab-df-convert:hover {\n",
              "      background-color: #434B5C;\n",
              "      box-shadow: 0px 1px 3px 1px rgba(0, 0, 0, 0.15);\n",
              "      filter: drop-shadow(0px 1px 2px rgba(0, 0, 0, 0.3));\n",
              "      fill: #FFFFFF;\n",
              "    }\n",
              "  </style>\n",
              "\n",
              "      <script>\n",
              "        const buttonEl =\n",
              "          document.querySelector('#df-9b1080c5-6c18-480b-b4b9-8fcb79e50a5d button.colab-df-convert');\n",
              "        buttonEl.style.display =\n",
              "          google.colab.kernel.accessAllowed ? 'block' : 'none';\n",
              "\n",
              "        async function convertToInteractive(key) {\n",
              "          const element = document.querySelector('#df-9b1080c5-6c18-480b-b4b9-8fcb79e50a5d');\n",
              "          const dataTable =\n",
              "            await google.colab.kernel.invokeFunction('convertToInteractive',\n",
              "                                                     [key], {});\n",
              "          if (!dataTable) return;\n",
              "\n",
              "          const docLinkHtml = 'Like what you see? Visit the ' +\n",
              "            '<a target=\"_blank\" href=https://colab.research.google.com/notebooks/data_table.ipynb>data table notebook</a>'\n",
              "            + ' to learn more about interactive tables.';\n",
              "          element.innerHTML = '';\n",
              "          dataTable['output_type'] = 'display_data';\n",
              "          await google.colab.output.renderOutput(dataTable, element);\n",
              "          const docLink = document.createElement('div');\n",
              "          docLink.innerHTML = docLinkHtml;\n",
              "          element.appendChild(docLink);\n",
              "        }\n",
              "      </script>\n",
              "    </div>\n",
              "  </div>\n",
              "  "
            ]
          },
          "metadata": {},
          "execution_count": 4
        }
      ]
    },
    {
      "cell_type": "code",
      "source": [
        "train_image = []\n",
        "for i in tqdm(range(data.shape[0])):\n",
        "    img = image.load_img(data['image'][i], target_size=(64,64,1), color_mode = \"grayscale\")\n",
        "    img = image.img_to_array(img)\n",
        "    img = img/255\n",
        "    train_image.append(img)\n",
        "X = np.array(train_image)\n"
      ],
      "metadata": {
        "colab": {
          "base_uri": "https://localhost:8080/"
        },
        "id": "4rrjRzpakUxu",
        "outputId": "101bde2f-8ed0-424f-ddfe-23bb6a4e3f26"
      },
      "execution_count": 5,
      "outputs": [
        {
          "output_type": "stream",
          "name": "stderr",
          "text": [
            "100%|██████████| 25000/25000 [01:16<00:00, 328.77it/s]\n"
          ]
        }
      ]
    },
    {
      "cell_type": "code",
      "source": [
        "y=data['label'].values"
      ],
      "metadata": {
        "id": "PRkojbmNZYIc"
      },
      "execution_count": 6,
      "outputs": []
    },
    {
      "cell_type": "markdown",
      "source": [
        "Model architecture design"
      ],
      "metadata": {
        "id": "j8zGgsiamoF3"
      }
    },
    {
      "cell_type": "code",
      "source": [
        "from keras.layers import LeakyReLU\n",
        "def train(batch_norm=False):\n",
        "    model = Sequential()\n",
        "    model.add(Conv2D(64, kernel_size=(3,3), input_shape=(64, 64, 1), activation=LeakyReLU(alpha=0.1), kernel_initializer='he_normal'))\n",
        "    model.add(Conv2D(64, kernel_size=(3,3), input_shape=(62, 62, 64), activation=LeakyReLU(alpha=0.1), kernel_initializer='he_normal'))  # 0.8806 add layer and modify activation fn\n",
        "    # add batch_norm 0.8882\n",
        "    if batch_norm:\n",
        "        model.add(BatchNormalization())\n",
        "    model.add(MaxPooling2D(pool_size=3))\n",
        "    model.add(Dropout(0.5)) #0.4->0.5 82->83\n",
        "    model.add(Conv2D(32, kernel_size=(3,3), activation = LeakyReLU(alpha=0.1))) #relu -> lrelu 0.8356\n",
        "    if batch_norm:\n",
        "        model.add(BatchNormalization())\n",
        "    model.add(MaxPooling2D(pool_size=3))\n",
        "    model.add(Dropout(0.5))\n",
        "    model.add(Flatten())\n",
        "    model.add(Dense(128, activation= LeakyReLU(alpha=0.1))) #relu -> lrelu 0.8356\n",
        "    model.add(Dropout(0.5)) #0.4->0.5 82->83\n",
        "    model.add(Dense(1, activation='sigmoid'))\n",
        "    print(model.summary())\n",
        "    model.compile(loss='binary_crossentropy',optimizer='Adam',metrics=['accuracy'])    \n",
        "    return model"
      ],
      "metadata": {
        "id": "2_fPwmLvkUsr"
      },
      "execution_count": 7,
      "outputs": []
    },
    {
      "cell_type": "code",
      "source": [
        "# training the model on all of input data\n",
        "model = train(batch_norm=True)\n",
        "train_on_full_data = model.fit(X, y, epochs=25 )"
      ],
      "metadata": {
        "colab": {
          "base_uri": "https://localhost:8080/"
        },
        "id": "5TfY5_WBkvkI",
        "outputId": "c1323e68-1ce0-4b3b-e6d1-423cc4cfa5b5"
      },
      "execution_count": null,
      "outputs": [
        {
          "output_type": "stream",
          "name": "stdout",
          "text": [
            "Model: \"sequential\"\n",
            "_________________________________________________________________\n",
            " Layer (type)                Output Shape              Param #   \n",
            "=================================================================\n",
            " conv2d (Conv2D)             (None, 62, 62, 64)        640       \n",
            "                                                                 \n",
            " conv2d_1 (Conv2D)           (None, 60, 60, 64)        36928     \n",
            "                                                                 \n",
            " batch_normalization (BatchN  (None, 60, 60, 64)       256       \n",
            " ormalization)                                                   \n",
            "                                                                 \n",
            " max_pooling2d (MaxPooling2D  (None, 20, 20, 64)       0         \n",
            " )                                                               \n",
            "                                                                 \n",
            " dropout (Dropout)           (None, 20, 20, 64)        0         \n",
            "                                                                 \n",
            " conv2d_2 (Conv2D)           (None, 18, 18, 32)        18464     \n",
            "                                                                 \n",
            " batch_normalization_1 (Batc  (None, 18, 18, 32)       128       \n",
            " hNormalization)                                                 \n",
            "                                                                 \n",
            " max_pooling2d_1 (MaxPooling  (None, 6, 6, 32)         0         \n",
            " 2D)                                                             \n",
            "                                                                 \n",
            " dropout_1 (Dropout)         (None, 6, 6, 32)          0         \n",
            "                                                                 \n",
            " flatten (Flatten)           (None, 1152)              0         \n",
            "                                                                 \n",
            " dense (Dense)               (None, 128)               147584    \n",
            "                                                                 \n",
            " dropout_2 (Dropout)         (None, 128)               0         \n",
            "                                                                 \n",
            " dense_1 (Dense)             (None, 1)                 129       \n",
            "                                                                 \n",
            "=================================================================\n",
            "Total params: 204,129\n",
            "Trainable params: 203,937\n",
            "Non-trainable params: 192\n",
            "_________________________________________________________________\n",
            "None\n",
            "Epoch 1/25\n",
            "782/782 [==============================] - 28s 19ms/step - loss: 0.7400 - accuracy: 0.6003\n",
            "Epoch 2/25\n",
            "782/782 [==============================] - 15s 19ms/step - loss: 0.6070 - accuracy: 0.6698\n",
            "Epoch 3/25\n",
            "782/782 [==============================] - 18s 23ms/step - loss: 0.5463 - accuracy: 0.7230\n",
            "Epoch 4/25\n",
            "782/782 [==============================] - 15s 20ms/step - loss: 0.4986 - accuracy: 0.7602\n",
            "Epoch 5/25\n",
            "782/782 [==============================] - 15s 19ms/step - loss: 0.4662 - accuracy: 0.7782\n",
            "Epoch 6/25\n",
            "782/782 [==============================] - 15s 20ms/step - loss: 0.4427 - accuracy: 0.7971\n",
            "Epoch 7/25\n",
            "782/782 [==============================] - 15s 19ms/step - loss: 0.4212 - accuracy: 0.8088\n",
            "Epoch 8/25\n",
            "782/782 [==============================] - 15s 19ms/step - loss: 0.4047 - accuracy: 0.8157\n",
            "Epoch 9/25\n",
            "782/782 [==============================] - 15s 20ms/step - loss: 0.3906 - accuracy: 0.8254\n",
            "Epoch 10/25\n",
            "782/782 [==============================] - 15s 19ms/step - loss: 0.3800 - accuracy: 0.8277\n",
            "Epoch 11/25\n",
            "782/782 [==============================] - 15s 20ms/step - loss: 0.3729 - accuracy: 0.8346\n",
            "Epoch 12/25\n",
            "782/782 [==============================] - 15s 19ms/step - loss: 0.3574 - accuracy: 0.8447\n",
            "Epoch 13/25\n",
            "782/782 [==============================] - 15s 19ms/step - loss: 0.3513 - accuracy: 0.8472\n",
            "Epoch 14/25\n",
            "782/782 [==============================] - 15s 19ms/step - loss: 0.3430 - accuracy: 0.8486\n",
            "Epoch 15/25\n",
            "782/782 [==============================] - 16s 20ms/step - loss: 0.3375 - accuracy: 0.8516\n",
            "Epoch 16/25\n",
            "782/782 [==============================] - 15s 19ms/step - loss: 0.3335 - accuracy: 0.8544\n",
            "Epoch 17/25\n",
            "782/782 [==============================] - 15s 19ms/step - loss: 0.3312 - accuracy: 0.8569\n",
            "Epoch 18/25\n",
            "782/782 [==============================] - 15s 19ms/step - loss: 0.3213 - accuracy: 0.8610\n",
            "Epoch 19/25\n",
            "782/782 [==============================] - 16s 20ms/step - loss: 0.3187 - accuracy: 0.8648\n",
            "Epoch 20/25\n",
            "782/782 [==============================] - 15s 19ms/step - loss: 0.3141 - accuracy: 0.8656\n",
            "Epoch 21/25\n",
            "782/782 [==============================] - 15s 19ms/step - loss: 0.3074 - accuracy: 0.8664\n",
            "Epoch 22/25\n",
            "782/782 [==============================] - 15s 19ms/step - loss: 0.3052 - accuracy: 0.8664\n",
            "Epoch 23/25\n",
            "782/782 [==============================] - 16s 20ms/step - loss: 0.3009 - accuracy: 0.8707\n",
            "Epoch 24/25\n",
            "172/782 [=====>........................] - ETA: 12s - loss: 0.3058 - accuracy: 0.8670"
          ]
        }
      ]
    },
    {
      "cell_type": "markdown",
      "source": [
        "draw training curve"
      ],
      "metadata": {
        "id": "PaoeUvBfoM0v"
      }
    },
    {
      "cell_type": "code",
      "source": [
        "# training set accuacy plot function design\n",
        "import matplotlib.pyplot as plt\n",
        "\n",
        "def plot_acc_loss(model_training_history, keyword =\"accuracy\", label=\"\"):\n",
        "    # summarize history for accuracy\n",
        "    plt.plot(model_training_history.history[keyword])\n",
        "    title = f'model {keyword} {label}'.strip()\n",
        "    plt.title(title)\n",
        "    plt.ylabel(keyword)\n",
        "    plt.xlabel('epoch')\n",
        "    plt.legend(['train',], loc='upper left')\n",
        "    plt.show()"
      ],
      "metadata": {
        "id": "kKB1CTCGkUgf"
      },
      "execution_count": null,
      "outputs": []
    },
    {
      "cell_type": "code",
      "source": [
        "plot_acc_loss(train_on_full_data, label=\"train_on_full_data\")"
      ],
      "metadata": {
        "id": "4t9e8m6klBPU"
      },
      "execution_count": null,
      "outputs": []
    },
    {
      "cell_type": "markdown",
      "source": [
        "Test data set test on trained model"
      ],
      "metadata": {
        "id": "5wW_cEslomDo"
      }
    },
    {
      "cell_type": "code",
      "source": [
        "test = os.listdir(\"./test1\")\n",
        "df = pd.DataFrame(test)\n",
        "\n",
        "df = df.rename(columns={0: \"image\"})\n",
        "df['id'] = df['image'].apply(lambda x: x.split('.')[0])\n",
        "df['image'] = df['image'].apply(lambda x: \"./test1/\"+x)\n",
        "df['label'] = df['image'].apply(lambda x: 0 if 'cat' in x else 1)\n",
        "df.head()"
      ],
      "metadata": {
        "id": "pZbtY3YFkUTs"
      },
      "execution_count": null,
      "outputs": []
    },
    {
      "cell_type": "code",
      "source": [
        "val_image = []\n",
        "for i in tqdm(range(df.shape[0])):\n",
        "    img = image.load_img(df['image'][i], target_size=(64,64,1), color_mode = \"grayscale\")\n",
        "    img = image.img_to_array(img)\n",
        "    img = img/255\n",
        "    val_image.append(img)\n",
        "X_val = np.array(val_image)"
      ],
      "metadata": {
        "id": "SPqotmD5kyQ8"
      },
      "execution_count": null,
      "outputs": []
    },
    {
      "cell_type": "code",
      "source": [
        "y_pred = model.predict(X_val)\n",
        "df['pred']=y_pred\n",
        "df['pred'] = df['pred'].apply(lambda x: 0 if x<0.5 else 1)\n",
        "n=len(df.pred)\n",
        "acc=0\n",
        "fa=0\n",
        "for i in range (0,n):\n",
        "  if df.pred[i] == df.label[i]:\n",
        "    acc = acc + 1\n",
        "  else:\n",
        "    fa = fa + 1\n",
        "\n",
        "print(acc, fa)\n",
        "print('accuracy=', acc/(acc + fa))"
      ],
      "metadata": {
        "id": "TOLxHpImk24B"
      },
      "execution_count": null,
      "outputs": []
    },
    {
      "cell_type": "markdown",
      "source": [
        "Draw confusion matrix"
      ],
      "metadata": {
        "id": "lDd3dFQToIEj"
      }
    },
    {
      "cell_type": "code",
      "source": [
        "from sklearn.metrics import classification_report\n",
        "\n",
        "import itertools\n",
        "import matplotlib.pyplot as plt\n",
        "from sklearn.metrics import confusion_matrix\n",
        "import numpy as np\n",
        "def plot_confusion_matrix(cm, classes,\n",
        "                          normalize=False,\n",
        "                          title='Confusion matrix',\n",
        "                          cmap=plt.cm.Blues):\n",
        "    \"\"\"\n",
        "    This function prints and plots the confusion matrix.\n",
        "    Normalization can be applied by setting `normalize=True`.\n",
        "    \"\"\"\n",
        "    if normalize:\n",
        "        cm = cm.astype('float') / cm.sum(axis=1)[:, np.newaxis]\n",
        "        print(\"Normalized confusion matrix\")\n",
        "    else:\n",
        "        print('Confusion matrix, without normalization')\n",
        "\n",
        "    print(cm)\n",
        "    plt.imshow(cm, interpolation='nearest', cmap=cmap)\n",
        "    plt.title(title)\n",
        "    plt.colorbar()\n",
        "    tick_marks = np.arange(len(classes))\n",
        "    plt.xticks(tick_marks, classes, rotation=45)\n",
        "    plt.yticks(tick_marks, classes)\n",
        "\n",
        "    fmt = '.2f' if normalize else 'd'\n",
        "    thresh = cm.max() / 2.\n",
        "    for i, j in itertools.product(range(cm.shape[0]), range(cm.shape[1])):\n",
        "        plt.text(j, i, format(cm[i, j], fmt),\n",
        "                 horizontalalignment=\"center\",\n",
        "                 color=\"white\" if cm[i, j] > thresh else \"black\")\n",
        "\n",
        "    plt.ylabel('True label')\n",
        "    plt.xlabel('Predicted label')\n",
        "    plt.tight_layout()"
      ],
      "metadata": {
        "id": "Vf1vhPHuk5js"
      },
      "execution_count": null,
      "outputs": []
    },
    {
      "cell_type": "code",
      "source": [
        "target_names = ['0','1']\n",
        "print (\"CONFUSION MATRIX\")\n",
        "print(classification_report(df.label, df.pred, target_names=target_names))\n",
        "print (\"**************************************************************\")\n",
        "\n",
        "plt.figure()\n",
        "cnf_matrix = confusion_matrix(df.label,df.pred)\n",
        "plot_confusion_matrix(cnf_matrix, classes=target_names,normalize=False,\n",
        "                    title=\"CONFUSION MATRIX \")"
      ],
      "metadata": {
        "id": "-l5-Z_y5k75i"
      },
      "execution_count": null,
      "outputs": []
    }
  ]
}