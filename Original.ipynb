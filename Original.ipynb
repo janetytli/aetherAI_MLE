{
  "nbformat": 4,
  "nbformat_minor": 0,
  "metadata": {
    "colab": {
      "provenance": [],
      "toc_visible": true,
      "mount_file_id": "1Cp8UXU09HjE_Hn6mPWISFe3tSV86oEys",
      "authorship_tag": "ABX9TyO1a2EoYktY/zgzq2dC9elq",
      "include_colab_link": true
    },
    "kernelspec": {
      "name": "python3",
      "display_name": "Python 3"
    },
    "language_info": {
      "name": "python"
    },
    "accelerator": "GPU",
    "gpuClass": "standard"
  },
  "cells": [
    {
      "cell_type": "markdown",
      "metadata": {
        "id": "view-in-github",
        "colab_type": "text"
      },
      "source": [
        "<a href=\"https://colab.research.google.com/github/janetytli/aetherAI_MLE/blob/main/Original.ipynb\" target=\"_parent\"><img src=\"https://colab.research.google.com/assets/colab-badge.svg\" alt=\"Open In Colab\"/></a>"
      ]
    },
    {
      "cell_type": "code",
      "execution_count": null,
      "metadata": {
        "colab": {
          "base_uri": "https://localhost:8080/"
        },
        "id": "VD-sxbZuQHH_",
        "outputId": "e73fed59-8496-43e9-c412-0f0ed68bcdba"
      },
      "outputs": [
        {
          "output_type": "stream",
          "name": "stdout",
          "text": [
            "hello world\n"
          ]
        }
      ],
      "source": [
        "print('hello world')"
      ]
    },
    {
      "cell_type": "code",
      "source": [
        "import numpy as np # linear algebra\n",
        "import pandas as pd # data processing, CSV file I/O (e.g. pd.read_csv)\n",
        "import os\n",
        "\n",
        "for dirname, _, filenames in os.walk('./drive/MyDrive/co_lab_MLE/kaggle/dog_cat/'):\n",
        "    for filename in filenames:\n",
        "        print(os.path.join(dirname, filename))"
      ],
      "metadata": {
        "colab": {
          "base_uri": "https://localhost:8080/"
        },
        "id": "jepATRdwQPU8",
        "outputId": "f3794e4f-794d-4404-d436-641071d07ac8"
      },
      "execution_count": 4,
      "outputs": [
        {
          "output_type": "stream",
          "name": "stdout",
          "text": [
            "./drive/MyDrive/co_lab_MLE/kaggle/dog_cat/sampleSubmission.csv\n",
            "./drive/MyDrive/co_lab_MLE/kaggle/dog_cat/test1.zip\n",
            "./drive/MyDrive/co_lab_MLE/kaggle/dog_cat/train.zip\n"
          ]
        }
      ]
    },
    {
      "cell_type": "code",
      "source": [
        "base_dir = \"./drive/MyDrive/co_lab_MLE/kaggle/dog_cat/\"\n",
        "train_dir = os.path.join(base_dir, \"train.zip\")\n",
        "test_dir = os.path.join(base_dir, \"test1.zip\")\n",
        "\n",
        "import zipfile\n",
        "with zipfile.ZipFile(train_dir,\"r\") as z:\n",
        "    z.extractall()\n",
        "\n",
        "with zipfile.ZipFile(test_dir,\"r\") as z:\n",
        "    z.extractall()"
      ],
      "metadata": {
        "id": "qgxBbbw6ZIQ5"
      },
      "execution_count": 5,
      "outputs": []
    },
    {
      "cell_type": "code",
      "source": [
        "images = os.listdir(\"./train\")\n",
        "data = pd.DataFrame(images)\n",
        "data = data.rename(columns={0: \"image\"})\n",
        "data['image'] = data['image'].apply(lambda x: \"./train/\"+x)\n",
        "data['label'] = data['image'].apply(lambda x: 0 if 'cat' in x else 1)\n",
        "data.head()"
      ],
      "metadata": {
        "colab": {
          "base_uri": "https://localhost:8080/",
          "height": 206
        },
        "id": "EkzVy2thZQG4",
        "outputId": "e43873f9-b065-4692-8180-5ac8a66b6f9b"
      },
      "execution_count": 8,
      "outputs": [
        {
          "output_type": "execute_result",
          "data": {
            "text/plain": [
              "                   image  label\n",
              "0   ./train/cat.7673.jpg      0\n",
              "1   ./train/dog.2997.jpg      1\n",
              "2  ./train/dog.11520.jpg      1\n",
              "3   ./train/dog.4568.jpg      1\n",
              "4   ./train/cat.8025.jpg      0"
            ],
            "text/html": [
              "\n",
              "  <div id=\"df-47e6e88d-c078-4b31-9f7f-559b630d5530\">\n",
              "    <div class=\"colab-df-container\">\n",
              "      <div>\n",
              "<style scoped>\n",
              "    .dataframe tbody tr th:only-of-type {\n",
              "        vertical-align: middle;\n",
              "    }\n",
              "\n",
              "    .dataframe tbody tr th {\n",
              "        vertical-align: top;\n",
              "    }\n",
              "\n",
              "    .dataframe thead th {\n",
              "        text-align: right;\n",
              "    }\n",
              "</style>\n",
              "<table border=\"1\" class=\"dataframe\">\n",
              "  <thead>\n",
              "    <tr style=\"text-align: right;\">\n",
              "      <th></th>\n",
              "      <th>image</th>\n",
              "      <th>label</th>\n",
              "    </tr>\n",
              "  </thead>\n",
              "  <tbody>\n",
              "    <tr>\n",
              "      <th>0</th>\n",
              "      <td>./train/cat.7673.jpg</td>\n",
              "      <td>0</td>\n",
              "    </tr>\n",
              "    <tr>\n",
              "      <th>1</th>\n",
              "      <td>./train/dog.2997.jpg</td>\n",
              "      <td>1</td>\n",
              "    </tr>\n",
              "    <tr>\n",
              "      <th>2</th>\n",
              "      <td>./train/dog.11520.jpg</td>\n",
              "      <td>1</td>\n",
              "    </tr>\n",
              "    <tr>\n",
              "      <th>3</th>\n",
              "      <td>./train/dog.4568.jpg</td>\n",
              "      <td>1</td>\n",
              "    </tr>\n",
              "    <tr>\n",
              "      <th>4</th>\n",
              "      <td>./train/cat.8025.jpg</td>\n",
              "      <td>0</td>\n",
              "    </tr>\n",
              "  </tbody>\n",
              "</table>\n",
              "</div>\n",
              "      <button class=\"colab-df-convert\" onclick=\"convertToInteractive('df-47e6e88d-c078-4b31-9f7f-559b630d5530')\"\n",
              "              title=\"Convert this dataframe to an interactive table.\"\n",
              "              style=\"display:none;\">\n",
              "        \n",
              "  <svg xmlns=\"http://www.w3.org/2000/svg\" height=\"24px\"viewBox=\"0 0 24 24\"\n",
              "       width=\"24px\">\n",
              "    <path d=\"M0 0h24v24H0V0z\" fill=\"none\"/>\n",
              "    <path d=\"M18.56 5.44l.94 2.06.94-2.06 2.06-.94-2.06-.94-.94-2.06-.94 2.06-2.06.94zm-11 1L8.5 8.5l.94-2.06 2.06-.94-2.06-.94L8.5 2.5l-.94 2.06-2.06.94zm10 10l.94 2.06.94-2.06 2.06-.94-2.06-.94-.94-2.06-.94 2.06-2.06.94z\"/><path d=\"M17.41 7.96l-1.37-1.37c-.4-.4-.92-.59-1.43-.59-.52 0-1.04.2-1.43.59L10.3 9.45l-7.72 7.72c-.78.78-.78 2.05 0 2.83L4 21.41c.39.39.9.59 1.41.59.51 0 1.02-.2 1.41-.59l7.78-7.78 2.81-2.81c.8-.78.8-2.07 0-2.86zM5.41 20L4 18.59l7.72-7.72 1.47 1.35L5.41 20z\"/>\n",
              "  </svg>\n",
              "      </button>\n",
              "      \n",
              "  <style>\n",
              "    .colab-df-container {\n",
              "      display:flex;\n",
              "      flex-wrap:wrap;\n",
              "      gap: 12px;\n",
              "    }\n",
              "\n",
              "    .colab-df-convert {\n",
              "      background-color: #E8F0FE;\n",
              "      border: none;\n",
              "      border-radius: 50%;\n",
              "      cursor: pointer;\n",
              "      display: none;\n",
              "      fill: #1967D2;\n",
              "      height: 32px;\n",
              "      padding: 0 0 0 0;\n",
              "      width: 32px;\n",
              "    }\n",
              "\n",
              "    .colab-df-convert:hover {\n",
              "      background-color: #E2EBFA;\n",
              "      box-shadow: 0px 1px 2px rgba(60, 64, 67, 0.3), 0px 1px 3px 1px rgba(60, 64, 67, 0.15);\n",
              "      fill: #174EA6;\n",
              "    }\n",
              "\n",
              "    [theme=dark] .colab-df-convert {\n",
              "      background-color: #3B4455;\n",
              "      fill: #D2E3FC;\n",
              "    }\n",
              "\n",
              "    [theme=dark] .colab-df-convert:hover {\n",
              "      background-color: #434B5C;\n",
              "      box-shadow: 0px 1px 3px 1px rgba(0, 0, 0, 0.15);\n",
              "      filter: drop-shadow(0px 1px 2px rgba(0, 0, 0, 0.3));\n",
              "      fill: #FFFFFF;\n",
              "    }\n",
              "  </style>\n",
              "\n",
              "      <script>\n",
              "        const buttonEl =\n",
              "          document.querySelector('#df-47e6e88d-c078-4b31-9f7f-559b630d5530 button.colab-df-convert');\n",
              "        buttonEl.style.display =\n",
              "          google.colab.kernel.accessAllowed ? 'block' : 'none';\n",
              "\n",
              "        async function convertToInteractive(key) {\n",
              "          const element = document.querySelector('#df-47e6e88d-c078-4b31-9f7f-559b630d5530');\n",
              "          const dataTable =\n",
              "            await google.colab.kernel.invokeFunction('convertToInteractive',\n",
              "                                                     [key], {});\n",
              "          if (!dataTable) return;\n",
              "\n",
              "          const docLinkHtml = 'Like what you see? Visit the ' +\n",
              "            '<a target=\"_blank\" href=https://colab.research.google.com/notebooks/data_table.ipynb>data table notebook</a>'\n",
              "            + ' to learn more about interactive tables.';\n",
              "          element.innerHTML = '';\n",
              "          dataTable['output_type'] = 'display_data';\n",
              "          await google.colab.output.renderOutput(dataTable, element);\n",
              "          const docLink = document.createElement('div');\n",
              "          docLink.innerHTML = docLinkHtml;\n",
              "          element.appendChild(docLink);\n",
              "        }\n",
              "      </script>\n",
              "    </div>\n",
              "  </div>\n",
              "  "
            ]
          },
          "metadata": {},
          "execution_count": 8
        }
      ]
    },
    {
      "cell_type": "code",
      "source": [
        "import keras\n",
        "from keras.models import Sequential\n",
        "from keras.layers import Dense, Dropout, Flatten, BatchNormalization\n",
        "from keras.layers import Conv2D, MaxPooling2D\n",
        "#from keras.preprocessing import image\n",
        "import keras.utils as image\n",
        "import numpy as np\n",
        "import pandas as pd\n",
        "import matplotlib.pyplot as plt\n",
        "from sklearn.model_selection import train_test_split\n",
        "from tensorflow.keras.utils import to_categorical\n",
        "from tqdm import tqdm"
      ],
      "metadata": {
        "id": "Jtc9LGRnZRpn"
      },
      "execution_count": 9,
      "outputs": []
    },
    {
      "cell_type": "code",
      "source": [
        "train_image = []\n",
        "for i in tqdm(range(data.shape[0])):\n",
        "    img = image.load_img(data['image'][i], target_size=(64,64,1), color_mode = \"grayscale\")\n",
        "    img = image.img_to_array(img)\n",
        "    img = img/255\n",
        "    train_image.append(img)\n",
        "X = np.array(train_image)"
      ],
      "metadata": {
        "id": "HIXJ2KgdZT88",
        "colab": {
          "base_uri": "https://localhost:8080/"
        },
        "outputId": "3f3b7ff0-6401-4ea8-b6b3-d8c51a93dc6b"
      },
      "execution_count": 10,
      "outputs": [
        {
          "output_type": "stream",
          "name": "stderr",
          "text": [
            "100%|██████████| 25000/25000 [01:11<00:00, 347.73it/s]\n"
          ]
        }
      ]
    },
    {
      "cell_type": "code",
      "source": [
        "y=data['label'].values"
      ],
      "metadata": {
        "id": "PRkojbmNZYIc"
      },
      "execution_count": 11,
      "outputs": []
    },
    {
      "cell_type": "code",
      "source": [
        "from sklearn.model_selection import train_test_split\n",
        "\n",
        "X_train, X_test, y_train, y_test = train_test_split(X, y, random_state=42, test_size=0.2)"
      ],
      "metadata": {
        "id": "uDjTMxuLZYwx"
      },
      "execution_count": 12,
      "outputs": []
    },
    {
      "cell_type": "code",
      "source": [
        "from keras.layers import LeakyReLU\n",
        "def train(batch_norm=False):\n",
        "    model = Sequential()\n",
        "    model.add(Conv2D(64, kernel_size=(3,3), input_shape=(64, 64, 1), activation=LeakyReLU(alpha=0.1), kernel_initializer='he_normal'))\n",
        "    model.add(Conv2D(64, kernel_size=(3,3), input_shape=(62, 62, 64), activation=LeakyReLU(alpha=0.1), kernel_initializer='he_normal'))  # 0.8806 add layer and modify activation fn\n",
        "    # add batch_norm 0.8882\n",
        "    if batch_norm:\n",
        "        model.add(BatchNormalization())\n",
        "    model.add(MaxPooling2D(pool_size=3))\n",
        "    model.add(Dropout(0.5)) #0.4->0.5 82->83\n",
        "    model.add(Conv2D(32, kernel_size=(3,3), activation = LeakyReLU(alpha=0.1))) #relu -> lrelu 0.8356\n",
        "    if batch_norm:\n",
        "        model.add(BatchNormalization())\n",
        "    model.add(MaxPooling2D(pool_size=3))\n",
        "    model.add(Dropout(0.5))\n",
        "    model.add(Flatten())\n",
        "    model.add(Dense(128, activation= LeakyReLU(alpha=0.1))) #relu -> lrelu 0.8356\n",
        "    model.add(Dropout(0.5)) #0.4->0.5 82->83\n",
        "    model.add(Dense(1, activation='sigmoid'))\n",
        "    print(model.summary())\n",
        "    model.compile(loss='binary_crossentropy',optimizer='Adam',metrics=['accuracy'])    \n",
        "    return model"
      ],
      "metadata": {
        "id": "An2lLCiuZb7J"
      },
      "execution_count": 16,
      "outputs": []
    },
    {
      "cell_type": "code",
      "source": [
        "training = model.fit(X_train, y_train, epochs=25, validation_data=(X_test, y_test))"
      ],
      "metadata": {
        "colab": {
          "base_uri": "https://localhost:8080/"
        },
        "outputId": "b0f92b5b-4268-4dc6-8666-c822e0472e03",
        "id": "fJLR_Q3JFkZ1"
      },
      "execution_count": null,
      "outputs": [
        {
          "output_type": "stream",
          "name": "stdout",
          "text": [
            "Epoch 1/25\n",
            "625/625 [==============================] - 13s 17ms/step - loss: 0.6776 - accuracy: 0.5799 - val_loss: 0.6586 - val_accuracy: 0.5854\n",
            "Epoch 2/25\n",
            "625/625 [==============================] - 10s 16ms/step - loss: 0.6047 - accuracy: 0.6691 - val_loss: 0.5382 - val_accuracy: 0.7364\n",
            "Epoch 3/25\n",
            "625/625 [==============================] - 10s 16ms/step - loss: 0.5487 - accuracy: 0.7214 - val_loss: 0.5145 - val_accuracy: 0.7390\n",
            "Epoch 4/25\n",
            "625/625 [==============================] - 11s 17ms/step - loss: 0.5119 - accuracy: 0.7513 - val_loss: 0.4492 - val_accuracy: 0.7944\n",
            "Epoch 5/25\n",
            "625/625 [==============================] - 10s 16ms/step - loss: 0.4758 - accuracy: 0.7734 - val_loss: 0.4209 - val_accuracy: 0.8064\n",
            "Epoch 6/25\n",
            "625/625 [==============================] - 11s 17ms/step - loss: 0.4516 - accuracy: 0.7842 - val_loss: 0.3958 - val_accuracy: 0.8246\n",
            "Epoch 7/25\n",
            "625/625 [==============================] - 10s 16ms/step - loss: 0.4397 - accuracy: 0.7949 - val_loss: 0.3765 - val_accuracy: 0.8352\n",
            "Epoch 8/25\n",
            "625/625 [==============================] - 10s 16ms/step - loss: 0.4241 - accuracy: 0.8073 - val_loss: 0.3621 - val_accuracy: 0.8398\n",
            "Epoch 9/25\n",
            "625/625 [==============================] - 10s 16ms/step - loss: 0.4095 - accuracy: 0.8116 - val_loss: 0.3541 - val_accuracy: 0.8486\n",
            "Epoch 10/25\n",
            "625/625 [==============================] - 10s 16ms/step - loss: 0.4016 - accuracy: 0.8177 - val_loss: 0.3414 - val_accuracy: 0.8526\n",
            "Epoch 11/25\n",
            "625/625 [==============================] - 10s 16ms/step - loss: 0.3905 - accuracy: 0.8235 - val_loss: 0.3677 - val_accuracy: 0.8368\n",
            "Epoch 12/25\n",
            "625/625 [==============================] - 11s 17ms/step - loss: 0.3835 - accuracy: 0.8271 - val_loss: 0.3343 - val_accuracy: 0.8584\n",
            "Epoch 13/25\n",
            "625/625 [==============================] - 10s 17ms/step - loss: 0.3764 - accuracy: 0.8327 - val_loss: 0.3509 - val_accuracy: 0.8484\n",
            "Epoch 14/25\n",
            "625/625 [==============================] - 10s 16ms/step - loss: 0.3672 - accuracy: 0.8347 - val_loss: 0.3167 - val_accuracy: 0.8630\n",
            "Epoch 15/25\n",
            "625/625 [==============================] - 10s 16ms/step - loss: 0.3609 - accuracy: 0.8404 - val_loss: 0.3163 - val_accuracy: 0.8682\n",
            "Epoch 16/25\n",
            "625/625 [==============================] - 10s 17ms/step - loss: 0.3508 - accuracy: 0.8425 - val_loss: 0.3221 - val_accuracy: 0.8618\n",
            "Epoch 17/25\n",
            "625/625 [==============================] - 10s 16ms/step - loss: 0.3531 - accuracy: 0.8454 - val_loss: 0.3062 - val_accuracy: 0.8696\n",
            "Epoch 18/25\n",
            "625/625 [==============================] - 10s 16ms/step - loss: 0.3462 - accuracy: 0.8510 - val_loss: 0.2963 - val_accuracy: 0.8750\n",
            "Epoch 19/25\n",
            "625/625 [==============================] - 10s 16ms/step - loss: 0.3492 - accuracy: 0.8442 - val_loss: 0.2916 - val_accuracy: 0.8796\n",
            "Epoch 20/25\n",
            "625/625 [==============================] - 10s 16ms/step - loss: 0.3360 - accuracy: 0.8548 - val_loss: 0.2944 - val_accuracy: 0.8722\n",
            "Epoch 21/25\n",
            "625/625 [==============================] - 10s 16ms/step - loss: 0.3385 - accuracy: 0.8485 - val_loss: 0.3028 - val_accuracy: 0.8736\n",
            "Epoch 22/25\n",
            "625/625 [==============================] - 10s 16ms/step - loss: 0.3322 - accuracy: 0.8518 - val_loss: 0.2954 - val_accuracy: 0.8808\n",
            "Epoch 23/25\n",
            "625/625 [==============================] - 10s 16ms/step - loss: 0.3250 - accuracy: 0.8576 - val_loss: 0.2924 - val_accuracy: 0.8836\n",
            "Epoch 24/25\n",
            "625/625 [==============================] - 11s 18ms/step - loss: 0.3152 - accuracy: 0.8609 - val_loss: 0.2815 - val_accuracy: 0.8842\n",
            "Epoch 25/25\n",
            "625/625 [==============================] - 10s 16ms/step - loss: 0.3162 - accuracy: 0.8594 - val_loss: 0.2884 - val_accuracy: 0.8806\n"
          ]
        }
      ]
    },
    {
      "cell_type": "code",
      "source": [
        "model = train()"
      ],
      "metadata": {
        "id": "3aPvZN5mZiyY",
        "colab": {
          "base_uri": "https://localhost:8080/"
        },
        "outputId": "5df7ca25-bdd3-41b1-87bc-dd1d0b520062"
      },
      "execution_count": 17,
      "outputs": [
        {
          "output_type": "stream",
          "name": "stdout",
          "text": [
            "Model: \"sequential_1\"\n",
            "_________________________________________________________________\n",
            " Layer (type)                Output Shape              Param #   \n",
            "=================================================================\n",
            " conv2d_2 (Conv2D)           (None, 62, 62, 64)        640       \n",
            "                                                                 \n",
            " conv2d_3 (Conv2D)           (None, 60, 60, 64)        36928     \n",
            "                                                                 \n",
            " max_pooling2d_2 (MaxPooling  (None, 20, 20, 64)       0         \n",
            " 2D)                                                             \n",
            "                                                                 \n",
            " dropout_3 (Dropout)         (None, 20, 20, 64)        0         \n",
            "                                                                 \n",
            " conv2d_4 (Conv2D)           (None, 18, 18, 32)        18464     \n",
            "                                                                 \n",
            " max_pooling2d_3 (MaxPooling  (None, 6, 6, 32)         0         \n",
            " 2D)                                                             \n",
            "                                                                 \n",
            " dropout_4 (Dropout)         (None, 6, 6, 32)          0         \n",
            "                                                                 \n",
            " flatten_1 (Flatten)         (None, 1152)              0         \n",
            "                                                                 \n",
            " dense_2 (Dense)             (None, 128)               147584    \n",
            "                                                                 \n",
            " dropout_5 (Dropout)         (None, 128)               0         \n",
            "                                                                 \n",
            " dense_3 (Dense)             (None, 1)                 129       \n",
            "                                                                 \n",
            "=================================================================\n",
            "Total params: 203,745\n",
            "Trainable params: 203,745\n",
            "Non-trainable params: 0\n",
            "_________________________________________________________________\n",
            "None\n"
          ]
        }
      ]
    },
    {
      "cell_type": "code",
      "source": [
        "training = model.fit(X_train, y_train, epochs=25, validation_data=(X_test, y_test))"
      ],
      "metadata": {
        "id": "MBUGQcqeZkkv",
        "colab": {
          "base_uri": "https://localhost:8080/"
        },
        "outputId": "b0f92b5b-4268-4dc6-8666-c822e0472e03"
      },
      "execution_count": 18,
      "outputs": [
        {
          "output_type": "stream",
          "name": "stdout",
          "text": [
            "Epoch 1/25\n",
            "625/625 [==============================] - 13s 17ms/step - loss: 0.6776 - accuracy: 0.5799 - val_loss: 0.6586 - val_accuracy: 0.5854\n",
            "Epoch 2/25\n",
            "625/625 [==============================] - 10s 16ms/step - loss: 0.6047 - accuracy: 0.6691 - val_loss: 0.5382 - val_accuracy: 0.7364\n",
            "Epoch 3/25\n",
            "625/625 [==============================] - 10s 16ms/step - loss: 0.5487 - accuracy: 0.7214 - val_loss: 0.5145 - val_accuracy: 0.7390\n",
            "Epoch 4/25\n",
            "625/625 [==============================] - 11s 17ms/step - loss: 0.5119 - accuracy: 0.7513 - val_loss: 0.4492 - val_accuracy: 0.7944\n",
            "Epoch 5/25\n",
            "625/625 [==============================] - 10s 16ms/step - loss: 0.4758 - accuracy: 0.7734 - val_loss: 0.4209 - val_accuracy: 0.8064\n",
            "Epoch 6/25\n",
            "625/625 [==============================] - 11s 17ms/step - loss: 0.4516 - accuracy: 0.7842 - val_loss: 0.3958 - val_accuracy: 0.8246\n",
            "Epoch 7/25\n",
            "625/625 [==============================] - 10s 16ms/step - loss: 0.4397 - accuracy: 0.7949 - val_loss: 0.3765 - val_accuracy: 0.8352\n",
            "Epoch 8/25\n",
            "625/625 [==============================] - 10s 16ms/step - loss: 0.4241 - accuracy: 0.8073 - val_loss: 0.3621 - val_accuracy: 0.8398\n",
            "Epoch 9/25\n",
            "625/625 [==============================] - 10s 16ms/step - loss: 0.4095 - accuracy: 0.8116 - val_loss: 0.3541 - val_accuracy: 0.8486\n",
            "Epoch 10/25\n",
            "625/625 [==============================] - 10s 16ms/step - loss: 0.4016 - accuracy: 0.8177 - val_loss: 0.3414 - val_accuracy: 0.8526\n",
            "Epoch 11/25\n",
            "625/625 [==============================] - 10s 16ms/step - loss: 0.3905 - accuracy: 0.8235 - val_loss: 0.3677 - val_accuracy: 0.8368\n",
            "Epoch 12/25\n",
            "625/625 [==============================] - 11s 17ms/step - loss: 0.3835 - accuracy: 0.8271 - val_loss: 0.3343 - val_accuracy: 0.8584\n",
            "Epoch 13/25\n",
            "625/625 [==============================] - 10s 17ms/step - loss: 0.3764 - accuracy: 0.8327 - val_loss: 0.3509 - val_accuracy: 0.8484\n",
            "Epoch 14/25\n",
            "625/625 [==============================] - 10s 16ms/step - loss: 0.3672 - accuracy: 0.8347 - val_loss: 0.3167 - val_accuracy: 0.8630\n",
            "Epoch 15/25\n",
            "625/625 [==============================] - 10s 16ms/step - loss: 0.3609 - accuracy: 0.8404 - val_loss: 0.3163 - val_accuracy: 0.8682\n",
            "Epoch 16/25\n",
            "625/625 [==============================] - 10s 17ms/step - loss: 0.3508 - accuracy: 0.8425 - val_loss: 0.3221 - val_accuracy: 0.8618\n",
            "Epoch 17/25\n",
            "625/625 [==============================] - 10s 16ms/step - loss: 0.3531 - accuracy: 0.8454 - val_loss: 0.3062 - val_accuracy: 0.8696\n",
            "Epoch 18/25\n",
            "625/625 [==============================] - 10s 16ms/step - loss: 0.3462 - accuracy: 0.8510 - val_loss: 0.2963 - val_accuracy: 0.8750\n",
            "Epoch 19/25\n",
            "625/625 [==============================] - 10s 16ms/step - loss: 0.3492 - accuracy: 0.8442 - val_loss: 0.2916 - val_accuracy: 0.8796\n",
            "Epoch 20/25\n",
            "625/625 [==============================] - 10s 16ms/step - loss: 0.3360 - accuracy: 0.8548 - val_loss: 0.2944 - val_accuracy: 0.8722\n",
            "Epoch 21/25\n",
            "625/625 [==============================] - 10s 16ms/step - loss: 0.3385 - accuracy: 0.8485 - val_loss: 0.3028 - val_accuracy: 0.8736\n",
            "Epoch 22/25\n",
            "625/625 [==============================] - 10s 16ms/step - loss: 0.3322 - accuracy: 0.8518 - val_loss: 0.2954 - val_accuracy: 0.8808\n",
            "Epoch 23/25\n",
            "625/625 [==============================] - 10s 16ms/step - loss: 0.3250 - accuracy: 0.8576 - val_loss: 0.2924 - val_accuracy: 0.8836\n",
            "Epoch 24/25\n",
            "625/625 [==============================] - 11s 18ms/step - loss: 0.3152 - accuracy: 0.8609 - val_loss: 0.2815 - val_accuracy: 0.8842\n",
            "Epoch 25/25\n",
            "625/625 [==============================] - 10s 16ms/step - loss: 0.3162 - accuracy: 0.8594 - val_loss: 0.2884 - val_accuracy: 0.8806\n"
          ]
        }
      ]
    },
    {
      "cell_type": "code",
      "source": [
        "import matplotlib.pyplot as plt\n",
        "\n",
        "def plot_acc_loss(model_training_history, keyword =\"accuracy\", label=\"\"):\n",
        "    # summarize history for accuracy\n",
        "    plt.plot(training.history[keyword])\n",
        "    plt.plot(training.history[f'val_{keyword}'])\n",
        "    title = f'model {keyword} {label}'.strip()\n",
        "    plt.title(title)\n",
        "    plt.ylabel(keyword)\n",
        "    plt.xlabel('epoch')\n",
        "    plt.legend(['train', 'test'], loc='upper left')\n",
        "    plt.show()"
      ],
      "metadata": {
        "id": "2B77EoUEZncG"
      },
      "execution_count": 19,
      "outputs": []
    },
    {
      "cell_type": "code",
      "source": [
        "model = train(batch_norm=True)\n",
        "training_batchnorm = model.fit(X_train, y_train, epochs=25, validation_data=(X_test, y_test))"
      ],
      "metadata": {
        "id": "b16CBjPnZoIr",
        "colab": {
          "base_uri": "https://localhost:8080/"
        },
        "outputId": "176f9440-2914-4f73-df17-9786817c03ff"
      },
      "execution_count": 20,
      "outputs": [
        {
          "output_type": "stream",
          "name": "stdout",
          "text": [
            "Model: \"sequential_2\"\n",
            "_________________________________________________________________\n",
            " Layer (type)                Output Shape              Param #   \n",
            "=================================================================\n",
            " conv2d_5 (Conv2D)           (None, 62, 62, 64)        640       \n",
            "                                                                 \n",
            " conv2d_6 (Conv2D)           (None, 60, 60, 64)        36928     \n",
            "                                                                 \n",
            " batch_normalization (BatchN  (None, 60, 60, 64)       256       \n",
            " ormalization)                                                   \n",
            "                                                                 \n",
            " max_pooling2d_4 (MaxPooling  (None, 20, 20, 64)       0         \n",
            " 2D)                                                             \n",
            "                                                                 \n",
            " dropout_6 (Dropout)         (None, 20, 20, 64)        0         \n",
            "                                                                 \n",
            " conv2d_7 (Conv2D)           (None, 18, 18, 32)        18464     \n",
            "                                                                 \n",
            " batch_normalization_1 (Batc  (None, 18, 18, 32)       128       \n",
            " hNormalization)                                                 \n",
            "                                                                 \n",
            " max_pooling2d_5 (MaxPooling  (None, 6, 6, 32)         0         \n",
            " 2D)                                                             \n",
            "                                                                 \n",
            " dropout_7 (Dropout)         (None, 6, 6, 32)          0         \n",
            "                                                                 \n",
            " flatten_2 (Flatten)         (None, 1152)              0         \n",
            "                                                                 \n",
            " dense_4 (Dense)             (None, 128)               147584    \n",
            "                                                                 \n",
            " dropout_8 (Dropout)         (None, 128)               0         \n",
            "                                                                 \n",
            " dense_5 (Dense)             (None, 1)                 129       \n",
            "                                                                 \n",
            "=================================================================\n",
            "Total params: 204,129\n",
            "Trainable params: 203,937\n",
            "Non-trainable params: 192\n",
            "_________________________________________________________________\n",
            "None\n",
            "Epoch 1/25\n",
            "625/625 [==============================] - 16s 20ms/step - loss: 0.7513 - accuracy: 0.5986 - val_loss: 0.7226 - val_accuracy: 0.6110\n",
            "Epoch 2/25\n",
            "625/625 [==============================] - 12s 20ms/step - loss: 0.6248 - accuracy: 0.6538 - val_loss: 0.6226 - val_accuracy: 0.6518\n",
            "Epoch 3/25\n",
            "625/625 [==============================] - 12s 19ms/step - loss: 0.5859 - accuracy: 0.6899 - val_loss: 0.7128 - val_accuracy: 0.6070\n",
            "Epoch 4/25\n",
            "625/625 [==============================] - 12s 20ms/step - loss: 0.5569 - accuracy: 0.7133 - val_loss: 0.5087 - val_accuracy: 0.7560\n",
            "Epoch 5/25\n",
            "625/625 [==============================] - 13s 21ms/step - loss: 0.5153 - accuracy: 0.7454 - val_loss: 0.4727 - val_accuracy: 0.7722\n",
            "Epoch 6/25\n",
            "625/625 [==============================] - 12s 19ms/step - loss: 0.4853 - accuracy: 0.7701 - val_loss: 0.4595 - val_accuracy: 0.7832\n",
            "Epoch 7/25\n",
            "625/625 [==============================] - 12s 19ms/step - loss: 0.4524 - accuracy: 0.7875 - val_loss: 0.4272 - val_accuracy: 0.8014\n",
            "Epoch 8/25\n",
            "625/625 [==============================] - 12s 20ms/step - loss: 0.4335 - accuracy: 0.7998 - val_loss: 0.4465 - val_accuracy: 0.7852\n",
            "Epoch 9/25\n",
            "625/625 [==============================] - 12s 19ms/step - loss: 0.4186 - accuracy: 0.8086 - val_loss: 0.6051 - val_accuracy: 0.7424\n",
            "Epoch 10/25\n",
            "625/625 [==============================] - 12s 19ms/step - loss: 0.3985 - accuracy: 0.8186 - val_loss: 0.5348 - val_accuracy: 0.7756\n",
            "Epoch 11/25\n",
            "625/625 [==============================] - 12s 19ms/step - loss: 0.3907 - accuracy: 0.8242 - val_loss: 0.3440 - val_accuracy: 0.8494\n",
            "Epoch 12/25\n",
            "625/625 [==============================] - 12s 19ms/step - loss: 0.3823 - accuracy: 0.8266 - val_loss: 0.5774 - val_accuracy: 0.7278\n",
            "Epoch 13/25\n",
            "625/625 [==============================] - 13s 20ms/step - loss: 0.3725 - accuracy: 0.8362 - val_loss: 0.5001 - val_accuracy: 0.7616\n",
            "Epoch 14/25\n",
            "625/625 [==============================] - 12s 19ms/step - loss: 0.3639 - accuracy: 0.8388 - val_loss: 0.3428 - val_accuracy: 0.8576\n",
            "Epoch 15/25\n",
            "625/625 [==============================] - 12s 19ms/step - loss: 0.3543 - accuracy: 0.8413 - val_loss: 0.3898 - val_accuracy: 0.8242\n",
            "Epoch 16/25\n",
            "625/625 [==============================] - 12s 19ms/step - loss: 0.3528 - accuracy: 0.8437 - val_loss: 0.3266 - val_accuracy: 0.8606\n",
            "Epoch 17/25\n",
            "625/625 [==============================] - 12s 19ms/step - loss: 0.3439 - accuracy: 0.8478 - val_loss: 0.3286 - val_accuracy: 0.8620\n",
            "Epoch 18/25\n",
            "625/625 [==============================] - 13s 20ms/step - loss: 0.3420 - accuracy: 0.8509 - val_loss: 0.2959 - val_accuracy: 0.8774\n",
            "Epoch 19/25\n",
            "625/625 [==============================] - 12s 20ms/step - loss: 0.3317 - accuracy: 0.8564 - val_loss: 0.3008 - val_accuracy: 0.8732\n",
            "Epoch 20/25\n",
            "625/625 [==============================] - 12s 19ms/step - loss: 0.3342 - accuracy: 0.8536 - val_loss: 0.3677 - val_accuracy: 0.8432\n",
            "Epoch 21/25\n",
            "625/625 [==============================] - 12s 19ms/step - loss: 0.3257 - accuracy: 0.8594 - val_loss: 0.2947 - val_accuracy: 0.8790\n",
            "Epoch 22/25\n",
            "625/625 [==============================] - 12s 19ms/step - loss: 0.3199 - accuracy: 0.8596 - val_loss: 0.3128 - val_accuracy: 0.8678\n",
            "Epoch 23/25\n",
            "625/625 [==============================] - 12s 20ms/step - loss: 0.3156 - accuracy: 0.8630 - val_loss: 0.4467 - val_accuracy: 0.8254\n",
            "Epoch 24/25\n",
            "625/625 [==============================] - 12s 19ms/step - loss: 0.3129 - accuracy: 0.8646 - val_loss: 0.3250 - val_accuracy: 0.8694\n",
            "Epoch 25/25\n",
            "625/625 [==============================] - 12s 19ms/step - loss: 0.3103 - accuracy: 0.8652 - val_loss: 0.2730 - val_accuracy: 0.8882\n"
          ]
        }
      ]
    },
    {
      "cell_type": "code",
      "source": [
        "plot_acc_loss(training, label=\"no batch norm\")"
      ],
      "metadata": {
        "id": "offUMd8VZrrq",
        "colab": {
          "base_uri": "https://localhost:8080/",
          "height": 472
        },
        "outputId": "5e2d2ada-592c-4fa8-a9f4-2465151e45e8"
      },
      "execution_count": 21,
      "outputs": [
        {
          "output_type": "display_data",
          "data": {
            "text/plain": [
              "<Figure size 640x480 with 1 Axes>"
            ],
            "image/png": "[encoded data removed]"
          },
          "metadata": {}
        }
      ]
    },
    {
      "cell_type": "code",
      "source": [
        "plot_acc_loss(training_batchnorm, label=\"batch norm\")"
      ],
      "metadata": {
        "id": "yZNGLtYuZtgm",
        "colab": {
          "base_uri": "https://localhost:8080/",
          "height": 472
        },
        "outputId": "df62ab5f-1ddd-4e50-89a0-5198864eaeee"
      },
      "execution_count": 22,
      "outputs": [
        {
          "output_type": "display_data",
          "data": {
            "text/plain": [
              "<Figure size 640x480 with 1 Axes>"
            ],
            "image/png": "[encoded data removed]"
          },
          "metadata": {}
        }
      ]
    },
    {
      "cell_type": "code",
      "source": [
        "plot_acc_loss(training_batchnorm, label=\"batch norm\", keyword=\"loss\")"
      ],
      "metadata": {
        "id": "GUG56v9RZvKy",
        "colab": {
          "base_uri": "https://localhost:8080/",
          "height": 472
        },
        "outputId": "982c8d30-0819-42be-9d71-3517e4041557"
      },
      "execution_count": 23,
      "outputs": [
        {
          "output_type": "display_data",
          "data": {
            "text/plain": [
              "<Figure size 640x480 with 1 Axes>"
            ],
            "image/png": "[encoded data removed]"
          },
          "metadata": {}
        }
      ]
    },
    {
      "cell_type": "code",
      "source": [
        "test = os.listdir(\"./test1\")\n",
        "df = pd.DataFrame(test)\n",
        "\n",
        "df = df.rename(columns={0: \"image\"})\n",
        "df['id'] = df['image'].apply(lambda x: x.split('.')[0])\n",
        "df['image'] = df['image'].apply(lambda x: \"./test1/\"+x)\n",
        "df['label'] = data['image'].apply(lambda x: 0 if 'cat' in x else 1)\n",
        "df.head()"
      ],
      "metadata": {
        "id": "C1SRGR_fZw7l",
        "colab": {
          "base_uri": "https://localhost:8080/",
          "height": 206
        },
        "outputId": "41a65c47-6ad3-482e-920f-215ef4131813"
      },
      "execution_count": 73,
      "outputs": [
        {
          "output_type": "execute_result",
          "data": {
            "text/plain": [
              "               image     id  label\n",
              "0      ./test1/9.jpg      9      1\n",
              "1   ./test1/7122.jpg   7122      1\n",
              "2   ./test1/6412.jpg   6412      1\n",
              "3  ./test1/12498.jpg  12498      1\n",
              "4   ./test1/7558.jpg   7558      1"
            ],
            "text/html": [
              "\n",
              "  <div id=\"df-3b795583-9843-437c-992b-ee91fe1a2cf3\">\n",
              "    <div class=\"colab-df-container\">\n",
              "      <div>\n",
              "<style scoped>\n",
              "    .dataframe tbody tr th:only-of-type {\n",
              "        vertical-align: middle;\n",
              "    }\n",
              "\n",
              "    .dataframe tbody tr th {\n",
              "        vertical-align: top;\n",
              "    }\n",
              "\n",
              "    .dataframe thead th {\n",
              "        text-align: right;\n",
              "    }\n",
              "</style>\n",
              "<table border=\"1\" class=\"dataframe\">\n",
              "  <thead>\n",
              "    <tr style=\"text-align: right;\">\n",
              "      <th></th>\n",
              "      <th>image</th>\n",
              "      <th>id</th>\n",
              "      <th>label</th>\n",
              "    </tr>\n",
              "  </thead>\n",
              "  <tbody>\n",
              "    <tr>\n",
              "      <th>0</th>\n",
              "      <td>./test1/9.jpg</td>\n",
              "      <td>9</td>\n",
              "      <td>1</td>\n",
              "    </tr>\n",
              "    <tr>\n",
              "      <th>1</th>\n",
              "      <td>./test1/7122.jpg</td>\n",
              "      <td>7122</td>\n",
              "      <td>1</td>\n",
              "    </tr>\n",
              "    <tr>\n",
              "      <th>2</th>\n",
              "      <td>./test1/6412.jpg</td>\n",
              "      <td>6412</td>\n",
              "      <td>1</td>\n",
              "    </tr>\n",
              "    <tr>\n",
              "      <th>3</th>\n",
              "      <td>./test1/12498.jpg</td>\n",
              "      <td>12498</td>\n",
              "      <td>1</td>\n",
              "    </tr>\n",
              "    <tr>\n",
              "      <th>4</th>\n",
              "      <td>./test1/7558.jpg</td>\n",
              "      <td>7558</td>\n",
              "      <td>1</td>\n",
              "    </tr>\n",
              "  </tbody>\n",
              "</table>\n",
              "</div>\n",
              "      <button class=\"colab-df-convert\" onclick=\"convertToInteractive('df-3b795583-9843-437c-992b-ee91fe1a2cf3')\"\n",
              "              title=\"Convert this dataframe to an interactive table.\"\n",
              "              style=\"display:none;\">\n",
              "        \n",
              "  <svg xmlns=\"http://www.w3.org/2000/svg\" height=\"24px\"viewBox=\"0 0 24 24\"\n",
              "       width=\"24px\">\n",
              "    <path d=\"M0 0h24v24H0V0z\" fill=\"none\"/>\n",
              "    <path d=\"M18.56 5.44l.94 2.06.94-2.06 2.06-.94-2.06-.94-.94-2.06-.94 2.06-2.06.94zm-11 1L8.5 8.5l.94-2.06 2.06-.94-2.06-.94L8.5 2.5l-.94 2.06-2.06.94zm10 10l.94 2.06.94-2.06 2.06-.94-2.06-.94-.94-2.06-.94 2.06-2.06.94z\"/><path d=\"M17.41 7.96l-1.37-1.37c-.4-.4-.92-.59-1.43-.59-.52 0-1.04.2-1.43.59L10.3 9.45l-7.72 7.72c-.78.78-.78 2.05 0 2.83L4 21.41c.39.39.9.59 1.41.59.51 0 1.02-.2 1.41-.59l7.78-7.78 2.81-2.81c.8-.78.8-2.07 0-2.86zM5.41 20L4 18.59l7.72-7.72 1.47 1.35L5.41 20z\"/>\n",
              "  </svg>\n",
              "      </button>\n",
              "      \n",
              "  <style>\n",
              "    .colab-df-container {\n",
              "      display:flex;\n",
              "      flex-wrap:wrap;\n",
              "      gap: 12px;\n",
              "    }\n",
              "\n",
              "    .colab-df-convert {\n",
              "      background-color: #E8F0FE;\n",
              "      border: none;\n",
              "      border-radius: 50%;\n",
              "      cursor: pointer;\n",
              "      display: none;\n",
              "      fill: #1967D2;\n",
              "      height: 32px;\n",
              "      padding: 0 0 0 0;\n",
              "      width: 32px;\n",
              "    }\n",
              "\n",
              "    .colab-df-convert:hover {\n",
              "      background-color: #E2EBFA;\n",
              "      box-shadow: 0px 1px 2px rgba(60, 64, 67, 0.3), 0px 1px 3px 1px rgba(60, 64, 67, 0.15);\n",
              "      fill: #174EA6;\n",
              "    }\n",
              "\n",
              "    [theme=dark] .colab-df-convert {\n",
              "      background-color: #3B4455;\n",
              "      fill: #D2E3FC;\n",
              "    }\n",
              "\n",
              "    [theme=dark] .colab-df-convert:hover {\n",
              "      background-color: #434B5C;\n",
              "      box-shadow: 0px 1px 3px 1px rgba(0, 0, 0, 0.15);\n",
              "      filter: drop-shadow(0px 1px 2px rgba(0, 0, 0, 0.3));\n",
              "      fill: #FFFFFF;\n",
              "    }\n",
              "  </style>\n",
              "\n",
              "      <script>\n",
              "        const buttonEl =\n",
              "          document.querySelector('#df-3b795583-9843-437c-992b-ee91fe1a2cf3 button.colab-df-convert');\n",
              "        buttonEl.style.display =\n",
              "          google.colab.kernel.accessAllowed ? 'block' : 'none';\n",
              "\n",
              "        async function convertToInteractive(key) {\n",
              "          const element = document.querySelector('#df-3b795583-9843-437c-992b-ee91fe1a2cf3');\n",
              "          const dataTable =\n",
              "            await google.colab.kernel.invokeFunction('convertToInteractive',\n",
              "                                                     [key], {});\n",
              "          if (!dataTable) return;\n",
              "\n",
              "          const docLinkHtml = 'Like what you see? Visit the ' +\n",
              "            '<a target=\"_blank\" href=https://colab.research.google.com/notebooks/data_table.ipynb>data table notebook</a>'\n",
              "            + ' to learn more about interactive tables.';\n",
              "          element.innerHTML = '';\n",
              "          dataTable['output_type'] = 'display_data';\n",
              "          await google.colab.output.renderOutput(dataTable, element);\n",
              "          const docLink = document.createElement('div');\n",
              "          docLink.innerHTML = docLinkHtml;\n",
              "          element.appendChild(docLink);\n",
              "        }\n",
              "      </script>\n",
              "    </div>\n",
              "  </div>\n",
              "  "
            ]
          },
          "metadata": {},
          "execution_count": 73
        }
      ]
    },
    {
      "cell_type": "code",
      "source": [
        "# training the model on all of input data\n",
        "model = train(batch_norm=True)\n",
        "train_on_full_data = model.fit(X, y, epochs=25 )"
      ],
      "metadata": {
        "id": "OVnvl0wkZz2V",
        "colab": {
          "base_uri": "https://localhost:8080/"
        },
        "outputId": "54c0b0cd-5a57-48bb-beed-a0f03240317b"
      },
      "execution_count": 74,
      "outputs": [
        {
          "output_type": "stream",
          "name": "stdout",
          "text": [
            "Model: \"sequential_6\"\n",
            "_________________________________________________________________\n",
            " Layer (type)                Output Shape              Param #   \n",
            "=================================================================\n",
            " conv2d_17 (Conv2D)          (None, 62, 62, 64)        640       \n",
            "                                                                 \n",
            " conv2d_18 (Conv2D)          (None, 60, 60, 64)        36928     \n",
            "                                                                 \n",
            " batch_normalization_8 (Batc  (None, 60, 60, 64)       256       \n",
            " hNormalization)                                                 \n",
            "                                                                 \n",
            " max_pooling2d_12 (MaxPoolin  (None, 20, 20, 64)       0         \n",
            " g2D)                                                            \n",
            "                                                                 \n",
            " dropout_18 (Dropout)        (None, 20, 20, 64)        0         \n",
            "                                                                 \n",
            " conv2d_19 (Conv2D)          (None, 18, 18, 32)        18464     \n",
            "                                                                 \n",
            " batch_normalization_9 (Batc  (None, 18, 18, 32)       128       \n",
            " hNormalization)                                                 \n",
            "                                                                 \n",
            " max_pooling2d_13 (MaxPoolin  (None, 6, 6, 32)         0         \n",
            " g2D)                                                            \n",
            "                                                                 \n",
            " dropout_19 (Dropout)        (None, 6, 6, 32)          0         \n",
            "                                                                 \n",
            " flatten_6 (Flatten)         (None, 1152)              0         \n",
            "                                                                 \n",
            " dense_12 (Dense)            (None, 128)               147584    \n",
            "                                                                 \n",
            " dropout_20 (Dropout)        (None, 128)               0         \n",
            "                                                                 \n",
            " dense_13 (Dense)            (None, 1)                 129       \n",
            "                                                                 \n",
            "=================================================================\n",
            "Total params: 204,129\n",
            "Trainable params: 203,937\n",
            "Non-trainable params: 192\n",
            "_________________________________________________________________\n",
            "None\n",
            "Epoch 1/25\n",
            "782/782 [==============================] - 17s 19ms/step - loss: 0.7448 - accuracy: 0.6027\n",
            "Epoch 2/25\n",
            "782/782 [==============================] - 15s 19ms/step - loss: 0.6149 - accuracy: 0.6622\n",
            "Epoch 3/25\n",
            "782/782 [==============================] - 15s 19ms/step - loss: 0.5712 - accuracy: 0.7050\n",
            "Epoch 4/25\n",
            "782/782 [==============================] - 15s 19ms/step - loss: 0.5172 - accuracy: 0.7460\n",
            "Epoch 5/25\n",
            "782/782 [==============================] - 15s 19ms/step - loss: 0.4798 - accuracy: 0.7701\n",
            "Epoch 6/25\n",
            "782/782 [==============================] - 14s 18ms/step - loss: 0.4468 - accuracy: 0.7940\n",
            "Epoch 7/25\n",
            "782/782 [==============================] - 15s 19ms/step - loss: 0.4227 - accuracy: 0.8062\n",
            "Epoch 8/25\n",
            "782/782 [==============================] - 14s 19ms/step - loss: 0.4108 - accuracy: 0.8153\n",
            "Epoch 9/25\n",
            "782/782 [==============================] - 14s 18ms/step - loss: 0.3968 - accuracy: 0.8214\n",
            "Epoch 10/25\n",
            "782/782 [==============================] - 15s 19ms/step - loss: 0.3828 - accuracy: 0.8273\n",
            "Epoch 11/25\n",
            "782/782 [==============================] - 15s 19ms/step - loss: 0.3704 - accuracy: 0.8347\n",
            "Epoch 12/25\n",
            "782/782 [==============================] - 15s 19ms/step - loss: 0.3601 - accuracy: 0.8418\n",
            "Epoch 13/25\n",
            "782/782 [==============================] - 15s 19ms/step - loss: 0.3539 - accuracy: 0.8476\n",
            "Epoch 14/25\n",
            "782/782 [==============================] - 15s 19ms/step - loss: 0.3497 - accuracy: 0.8482\n",
            "Epoch 15/25\n",
            "782/782 [==============================] - 15s 19ms/step - loss: 0.3371 - accuracy: 0.8542\n",
            "Epoch 16/25\n",
            "782/782 [==============================] - 14s 19ms/step - loss: 0.3366 - accuracy: 0.8532\n",
            "Epoch 17/25\n",
            "782/782 [==============================] - 15s 19ms/step - loss: 0.3302 - accuracy: 0.8586\n",
            "Epoch 18/25\n",
            "782/782 [==============================] - 15s 19ms/step - loss: 0.3203 - accuracy: 0.8598\n",
            "Epoch 19/25\n",
            "782/782 [==============================] - 15s 19ms/step - loss: 0.3191 - accuracy: 0.8623\n",
            "Epoch 20/25\n",
            "782/782 [==============================] - 15s 19ms/step - loss: 0.3102 - accuracy: 0.8658\n",
            "Epoch 21/25\n",
            "782/782 [==============================] - 15s 19ms/step - loss: 0.3048 - accuracy: 0.8668\n",
            "Epoch 22/25\n",
            "782/782 [==============================] - 14s 18ms/step - loss: 0.3098 - accuracy: 0.8660\n",
            "Epoch 23/25\n",
            "782/782 [==============================] - 15s 19ms/step - loss: 0.3019 - accuracy: 0.8666\n",
            "Epoch 24/25\n",
            "782/782 [==============================] - 15s 19ms/step - loss: 0.2991 - accuracy: 0.8710\n",
            "Epoch 25/25\n",
            "782/782 [==============================] - 14s 19ms/step - loss: 0.2963 - accuracy: 0.8730\n"
          ]
        }
      ]
    },
    {
      "cell_type": "code",
      "source": [
        "val_image = []\n",
        "for i in tqdm(range(df.shape[0])):\n",
        "    img = image.load_img(df['image'][i], target_size=(64,64,1), color_mode = \"grayscale\")\n",
        "    img = image.img_to_array(img)\n",
        "    img = img/255\n",
        "    val_image.append(img)\n",
        "X_val = np.array(val_image)"
      ],
      "metadata": {
        "id": "UVNzZi0iZ1_F",
        "colab": {
          "base_uri": "https://localhost:8080/"
        },
        "outputId": "fdde7222-ea93-49f1-ad26-4643f584ea1b"
      },
      "execution_count": 75,
      "outputs": [
        {
          "output_type": "stream",
          "name": "stderr",
          "text": [
            "100%|██████████| 12500/12500 [00:35<00:00, 351.41it/s]\n"
          ]
        }
      ]
    },
    {
      "cell_type": "code",
      "source": [
        "y_pred = model.predict(X_val)\n",
        "df['pred']=y_pred\n",
        "df['pred'] = df['pred'].apply(lambda x: 0 if x<0.5 else 1)\n",
        "n=len(df.pred)\n",
        "acc=0\n",
        "fa=0\n",
        "for i in range (0,n):\n",
        "  if df.pred[i] == df.label[i]:\n",
        "    acc = acc + 1\n",
        "  else:\n",
        "    fa = fa + 1\n",
        "\n",
        "print(acc, fa)\n",
        "print('accuracy=', acc/(acc + fa))"
      ],
      "metadata": {
        "id": "nM-hTuC9Z3w8",
        "colab": {
          "base_uri": "https://localhost:8080/"
        },
        "outputId": "ee567955-bc5e-473d-f299-addc6cba00e4"
      },
      "execution_count": 76,
      "outputs": [
        {
          "output_type": "stream",
          "name": "stdout",
          "text": [
            "391/391 [==============================] - 2s 5ms/step\n",
            "6028 6472\n",
            "accuracy= 0.48224\n"
          ]
        }
      ]
    },
    {
      "cell_type": "code",
      "source": [
        "from sklearn.metrics import classification_report\n",
        "\n",
        "import itertools\n",
        "import matplotlib.pyplot as plt\n",
        "from sklearn.metrics import confusion_matrix\n",
        "import numpy as np\n",
        "def plot_confusion_matrix(cm, classes,\n",
        "                          normalize=False,\n",
        "                          title='Confusion matrix',\n",
        "                          cmap=plt.cm.Blues):\n",
        "    \"\"\"\n",
        "    This function prints and plots the confusion matrix.\n",
        "    Normalization can be applied by setting `normalize=True`.\n",
        "    \"\"\"\n",
        "    if normalize:\n",
        "        cm = cm.astype('float') / cm.sum(axis=1)[:, np.newaxis]\n",
        "        print(\"Normalized confusion matrix\")\n",
        "    else:\n",
        "        print('Confusion matrix, without normalization')\n",
        "\n",
        "    print(cm)\n",
        "    plt.imshow(cm, interpolation='nearest', cmap=cmap)\n",
        "    plt.title(title)\n",
        "    plt.colorbar()\n",
        "    tick_marks = np.arange(len(classes))\n",
        "    plt.xticks(tick_marks, classes, rotation=45)\n",
        "    plt.yticks(tick_marks, classes)\n",
        "\n",
        "    fmt = '.2f' if normalize else 'd'\n",
        "    thresh = cm.max() / 2.\n",
        "    for i, j in itertools.product(range(cm.shape[0]), range(cm.shape[1])):\n",
        "        plt.text(j, i, format(cm[i, j], fmt),\n",
        "                 horizontalalignment=\"center\",\n",
        "                 color=\"white\" if cm[i, j] > thresh else \"black\")\n",
        "\n",
        "    plt.ylabel('True label')\n",
        "    plt.xlabel('Predicted label')\n",
        "    plt.tight_layout()"
      ],
      "metadata": {
        "id": "UDVyblJ2XWk7"
      },
      "execution_count": 77,
      "outputs": []
    },
    {
      "cell_type": "code",
      "source": [
        "target_names = ['0','1']\n",
        "print (\"CONFUSION MATRIX\")\n",
        "print(classification_report(df.label, df.pred, target_names=target_names))\n",
        "print (\"**************************************************************\")\n",
        "\n",
        "plt.figure()\n",
        "cnf_matrix = confusion_matrix(df.label,df.pred)\n",
        "plot_confusion_matrix(cnf_matrix, classes=target_names,normalize=False,\n",
        "                    title=\"CONFUSION MATRIX \")"
      ],
      "metadata": {
        "colab": {
          "base_uri": "https://localhost:8080/",
          "height": 854
        },
        "id": "baIV7f1rVxn3",
        "outputId": "4a058ed8-bdf5-4f71-8a84-2758b7f3569a"
      },
      "execution_count": 78,
      "outputs": [
        {
          "output_type": "stream",
          "name": "stdout",
          "text": [
            "CONFUSION MATRIX\n",
            "              precision    recall  f1-score   support\n",
            "\n",
            "           0       0.00      0.00      0.00         0\n",
            "           1       1.00      0.48      0.65     12500\n",
            "\n",
            "    accuracy                           0.48     12500\n",
            "   macro avg       0.50      0.24      0.33     12500\n",
            "weighted avg       1.00      0.48      0.65     12500\n",
            "\n",
            "**************************************************************\n",
            "Confusion matrix, without normalization\n",
            "[[   0    0]\n",
            " [6472 6028]]\n"
          ]
        },
        {
          "output_type": "stream",
          "name": "stderr",
          "text": [
            "/usr/local/lib/python3.9/dist-packages/sklearn/metrics/_classification.py:1344: UndefinedMetricWarning: Recall and F-score are ill-defined and being set to 0.0 in labels with no true samples. Use `zero_division` parameter to control this behavior.\n",
            "  _warn_prf(average, modifier, msg_start, len(result))\n",
            "/usr/local/lib/python3.9/dist-packages/sklearn/metrics/_classification.py:1344: UndefinedMetricWarning: Recall and F-score are ill-defined and being set to 0.0 in labels with no true samples. Use `zero_division` parameter to control this behavior.\n",
            "  _warn_prf(average, modifier, msg_start, len(result))\n",
            "/usr/local/lib/python3.9/dist-packages/sklearn/metrics/_classification.py:1344: UndefinedMetricWarning: Recall and F-score are ill-defined and being set to 0.0 in labels with no true samples. Use `zero_division` parameter to control this behavior.\n",
            "  _warn_prf(average, modifier, msg_start, len(result))\n"
          ]
        },
        {
          "output_type": "display_data",
          "data": {
            "text/plain": [
              "<Figure size 640x480 with 2 Axes>"
            ],
            "image/png": "[encoded data removed]"
          },
          "metadata": {}
        }
      ]
    },
    {
      "cell_type": "code",
      "source": [
        "submission = pd.DataFrame({'id': df.id, 'pred': df.pred, 'label':df.label})\n",
        "submission.to_csv('submission.csv', index=False)\n"
      ],
      "metadata": {
        "id": "S9e8iRghZ4Zz"
      },
      "execution_count": 79,
      "outputs": []
    },
    {
      "cell_type": "code",
      "source": [
        "import matplotlib.pyplot as plt\n",
        "\n",
        "def plot_acc_loss(model_training_history, keyword =\"accuracy\", label=\"\"):\n",
        "    # summarize history for accuracy\n",
        "    plt.plot(training.history[keyword])\n",
        "    #plt.plot(training.history[f'val_{keyword}'])\n",
        "    title = f'model {keyword} {label}'.strip()\n",
        "    plt.title(title)\n",
        "    plt.ylabel(keyword)\n",
        "    plt.xlabel('epoch')\n",
        "    plt.legend(['train'], loc='upper left')\n",
        "    plt.show()"
      ],
      "metadata": {
        "id": "h0ZFHSvCLHaN"
      },
      "execution_count": 47,
      "outputs": []
    },
    {
      "cell_type": "code",
      "source": [
        "plot_acc_loss(train_on_full_data, label=\"train_on_full_data\")"
      ],
      "metadata": {
        "colab": {
          "base_uri": "https://localhost:8080/",
          "height": 472
        },
        "id": "GRBghdN5Jxwh",
        "outputId": "26912c30-0d80-4ccd-dea8-e39432a48b85"
      },
      "execution_count": 80,
      "outputs": [
        {
          "output_type": "display_data",
          "data": {
            "text/plain": [
              "<Figure size 640x480 with 1 Axes>"
            ],
            "image/png": "[encoded data removed]"
          },
          "metadata": {}
        }
      ]
    },
    {
      "cell_type": "code",
      "source": [],
      "metadata": {
        "id": "oTbjUc2IcY0N"
      },
      "execution_count": null,
      "outputs": []
    }
  ]
}